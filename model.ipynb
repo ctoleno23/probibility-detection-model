{
 "cells": [
  {
   "cell_type": "code",
   "execution_count": 214,
   "metadata": {},
   "outputs": [],
   "source": [
    "#PROBABILITY DETECTION MODEL\n",
    "\n",
    "\n",
    "#create script to subsample the detection results at a desired FPS and a dataframe of frames and detections\n",
    "\n",
    "#the script should be ran across .5,1,2,3,4,5 FPS (where the video is >=5 fps)\n",
    "\n",
    "#input will be a video stream (a stream of images effectively), and will at the maximum the number of frames will be 5x the length of the video in seconds\n",
    "import cv2\n",
    "import numpy as np\n",
    "import pandas as pd\n",
    "import boto3\n",
    "from boto3.dynamodb.conditions import Key, Attr\n",
    "import joblib\n",
    "import re\n",
    "import math\n",
    "import ast\n",
    "import seaborn as sns\n",
    "import matplotlib.pyplot as plt\n",
    "import plotly.express as px"
   ]
  },
  {
   "cell_type": "code",
   "execution_count": 215,
   "metadata": {},
   "outputs": [],
   "source": [
    "#is the expectation for this tool to be used with real time or just a stream of images?"
   ]
  },
  {
   "cell_type": "code",
   "execution_count": 216,
   "metadata": {},
   "outputs": [
    {
     "name": "stdout",
     "output_type": "stream",
     "text": [
      "    preprocessing_step              model        camera_id         frame_id  \\\n",
      "0       {'BOOL': True}  {'S': 'intruder'}       {'N': '1'}    {'S': '0001'}   \n",
      "1       {'BOOL': True}                NaN       {'N': '1'}    {'S': '0001'}   \n",
      "2       {'BOOL': True}  {'S': 'intruder'}       {'N': '1'}    {'S': '0002'}   \n",
      "3       {'BOOL': True}  {'S': 'intruder'}       {'N': '1'}    {'S': '0003'}   \n",
      "4       {'BOOL': True}    {'S': 'weapon'}       {'N': '1'}    {'S': '0003'}   \n",
      "..                 ...                ...              ...              ...   \n",
      "624     {'BOOL': True}  {'S': 'intruder'}  {'S': '076098'}  {'S': '000101'}   \n",
      "625     {'BOOL': True}  {'S': 'fpfinder'}  {'S': '076098'}  {'S': '000101'}   \n",
      "626     {'BOOL': True}  {'S': 'fpfinder'}  {'S': '076098'}  {'S': '000101'}   \n",
      "627     {'BOOL': True}    {'S': 'weapon'}  {'S': '076098'}  {'S': '000101'}   \n",
      "628     {'BOOL': True}    {'S': 'weapon'}  {'S': '076098'}  {'S': '000101'}   \n",
      "\n",
      "         preprocessing_option  \\\n",
      "0          {'S': 'fish2pano'}   \n",
      "1          {'S': 'fish2pano'}   \n",
      "2          {'S': 'fish2pano'}   \n",
      "3          {'S': 'fish2pano'}   \n",
      "4          {'S': 'fish2pano'}   \n",
      "..                        ...   \n",
      "624  {'S': 'dynamic_slicing'}   \n",
      "625        {'S': 'fish2pano'}   \n",
      "626  {'S': 'dynamic_slicing'}   \n",
      "627        {'S': 'fish2pano'}   \n",
      "628  {'S': 'dynamic_slicing'}   \n",
      "\n",
      "                                           s3_location  \\\n",
      "0    {'S': 's3://actuate-robomladen/batch_169159406...   \n",
      "1    {'S': 's3://actuate-robomladen/batch_169159403...   \n",
      "2    {'S': 's3://actuate-robomladen/batch_169159403...   \n",
      "3    {'S': 's3://actuate-robomladen/batch_169159403...   \n",
      "4    {'S': 's3://actuate-robomladen/batch_169159403...   \n",
      "..                                                 ...   \n",
      "624  {'S': 's3://actuate-robomladen/batch_6ecf25d7-...   \n",
      "625  {'S': 's3://actuate-robomladen/batch_6ecf25d7-...   \n",
      "626  {'S': 's3://actuate-robomladen/batch_6ecf25d7-...   \n",
      "627  {'S': 's3://actuate-robomladen/batch_6ecf25d7-...   \n",
      "628  {'S': 's3://actuate-robomladen/batch_6ecf25d7-...   \n",
      "\n",
      "                       timestamp  \\\n",
      "0            {'N': '1692732268'}   \n",
      "1            {'N': '1692732263'}   \n",
      "2            {'N': '1692732265'}   \n",
      "3            {'N': '1692732268'}   \n",
      "4            {'N': '1692732280'}   \n",
      "..                           ...   \n",
      "624   {'N': '1694505870.604817'}   \n",
      "625   {'N': '1694505872.141046'}   \n",
      "626  {'N': '1694505873.3719769'}   \n",
      "627   {'N': '1694505874.448063'}   \n",
      "628   {'N': '1694505875.522461'}   \n",
      "\n",
      "                                            detections  \\\n",
      "0                                            {'L': []}   \n",
      "1    {'L': [{'S': '[[\"person\", 0.92482590675354, [1...   \n",
      "2    {'L': [{'S': '[[\"person\", 0.76482590675354, [1...   \n",
      "3    {'L': [{'S': '[[\"person\", 0.3018590675354, [13...   \n",
      "4    {'L': [{'S': '[[\"gun\", 0.33333, [1300, 150, 40...   \n",
      "..                                                 ...   \n",
      "624  {'L': [{'S': '[['person', 0.9264316558837891, ...   \n",
      "625  {'L': [{'S': '[['person', 0.8497623205184937, ...   \n",
      "626  {'L': [{'S': '[['person', 0.8497623205184937, ...   \n",
      "627                                          {'L': []}   \n",
      "628                                          {'L': []}   \n",
      "\n",
      "                                          batch_id native_FPS_rate  \n",
      "0                              {'S': '1691594066'}             NaN  \n",
      "1                              {'S': '1691594034'}             NaN  \n",
      "2                              {'S': '1691594034'}             NaN  \n",
      "3                              {'S': '1691594034'}             NaN  \n",
      "4                              {'S': '1691594034'}             NaN  \n",
      "..                                             ...             ...  \n",
      "624  {'S': '6ecf25d7-3564-4316-903e-7a3508c10cc9'}             NaN  \n",
      "625  {'S': '6ecf25d7-3564-4316-903e-7a3508c10cc9'}             NaN  \n",
      "626  {'S': '6ecf25d7-3564-4316-903e-7a3508c10cc9'}             NaN  \n",
      "627  {'S': '6ecf25d7-3564-4316-903e-7a3508c10cc9'}             NaN  \n",
      "628  {'S': '6ecf25d7-3564-4316-903e-7a3508c10cc9'}             NaN  \n",
      "\n",
      "[629 rows x 10 columns]\n"
     ]
    }
   ],
   "source": [
    "\n",
    "#loading model\n",
    "dynamodb = boto3.client('dynamodb')\n",
    "table_name = 'robomladen_frame_metadata'\n",
    "response = dynamodb.scan(\n",
    "    TableName=table_name\n",
    ")\n",
    "\n",
    "# Handle the scan results\n",
    "list_of_items = []\n",
    "for item in response['Items']:\n",
    "    #print(item)\n",
    "    list_of_items.append(item)\n",
    "#print(list_of_items[1])\n",
    "\n",
    "list_df = pd.DataFrame(list_of_items)\n",
    "\n",
    "print(list_df)\n",
    "#for i in range(1,len(list_df)-1):\n",
    "    #print(list_df[i]['timestamp'])\n",
    "\n"
   ]
  },
  {
   "cell_type": "code",
   "execution_count": 217,
   "metadata": {},
   "outputs": [
    {
     "data": {
      "text/plain": [
       "['model_results.pkl']"
      ]
     },
     "execution_count": 217,
     "metadata": {},
     "output_type": "execute_result"
    }
   ],
   "source": [
    "\n",
    "joblib.dump(list_of_items, \"model_results.pkl\" , compress=0, protocol=None, cache_size=None)"
   ]
  },
  {
   "cell_type": "code",
   "execution_count": 218,
   "metadata": {},
   "outputs": [],
   "source": [
    "model_results = joblib.load(\"model_results.pkl\")\n",
    "for i in range(0,len(model_results)-1):\n",
    "    model_results[i]['simple_time'] = round(float(model_results[i]['timestamp']['N']),2)"
   ]
  },
  {
   "cell_type": "code",
   "execution_count": 219,
   "metadata": {},
   "outputs": [],
   "source": [
    "model_results_df = pd.DataFrame(model_results)\n",
    "\n",
    "#hard coded, adjust as needed later\n",
    "df = model_results_df.loc[model_results_df['batch_id'] != \"6ecf25d7-3564-4316-903e-7a3508c10cc9\"]\n",
    "df = df.sort_values(by = ['simple_time'])\n",
    "\n"
   ]
  },
  {
   "cell_type": "code",
   "execution_count": 220,
   "metadata": {},
   "outputs": [
    {
     "name": "stdout",
     "output_type": "stream",
     "text": [
      "            frame_id   simple_time  \\\n",
      "1      {'S': '0001'}  1.692732e+09   \n",
      "2      {'S': '0002'}  1.692732e+09   \n",
      "0      {'S': '0001'}  1.692732e+09   \n",
      "3      {'S': '0003'}  1.692732e+09   \n",
      "4      {'S': '0003'}  1.692732e+09   \n",
      "..               ...           ...   \n",
      "19   {'S': '000008'}  1.694545e+09   \n",
      "20   {'S': '000008'}  1.694545e+09   \n",
      "21   {'S': '000009'}  1.694545e+09   \n",
      "22   {'S': '000009'}  1.694545e+09   \n",
      "628  {'S': '000101'}           NaN   \n",
      "\n",
      "                                            detections  \n",
      "1    {'L': [{'S': '[[\"person\", 0.92482590675354, [1...  \n",
      "2    {'L': [{'S': '[[\"person\", 0.76482590675354, [1...  \n",
      "0                                            {'L': []}  \n",
      "3    {'L': [{'S': '[[\"person\", 0.3018590675354, [13...  \n",
      "4    {'L': [{'S': '[[\"gun\", 0.33333, [1300, 150, 40...  \n",
      "..                                                 ...  \n",
      "19                                           {'L': []}  \n",
      "20                                           {'L': []}  \n",
      "21                                           {'L': []}  \n",
      "22                                           {'L': []}  \n",
      "628                                          {'L': []}  \n",
      "\n",
      "[629 rows x 3 columns]\n"
     ]
    }
   ],
   "source": [
    "\n",
    "columns = ['frame_id','simple_time','detections']\n",
    "print(df[columns])\n"
   ]
  },
  {
   "cell_type": "code",
   "execution_count": 221,
   "metadata": {},
   "outputs": [],
   "source": [
    "#assuming 30 fps camera\n",
    "#1800 frames per minute\n",
    "#.5 fps = frame every 2 seconds, 30 frames per minute\n",
    "#1 fps = frame every 1 minute, 60 frames per minute \n",
    "#2 fps = frame every 30 seconds, 120 frames per minute\n",
    "#3 fps = frame every 20 seconds, 180 frames per minute\n",
    "#4 fps = frame every 15 seconds, 240 frames per minute\n",
    "#5 fps = frame every 12 seconds, 300 frames per minute \n",
    "\n",
    "fps = [.5,1,2,3,4,5]\n",
    "camera_intervals = [10]\n"
   ]
  },
  {
   "cell_type": "code",
   "execution_count": 222,
   "metadata": {},
   "outputs": [],
   "source": [
    "\n",
    "#the input here is one output of one frame, indexes on \"detections\"\n",
    "def detections_string_fix(individual_list_of_detections):\n",
    "    \n",
    "    fixed_list = []\n",
    "    for p in range(0,len(individual_list_of_detections)):\n",
    "        y = individual_list_of_detections[p][2:-2].split(',')\n",
    "        y[0] = y[0][1:-1]\n",
    "        y[1] = float(y[1])\n",
    "        y = y[0:2]\n",
    "        fixed_list.append(y)\n",
    "    return fixed_list"
   ]
  },
  {
   "cell_type": "code",
   "execution_count": 223,
   "metadata": {},
   "outputs": [
    {
     "name": "stdout",
     "output_type": "stream",
     "text": [
      "629\n"
     ]
    }
   ],
   "source": [
    "def get_detections_of_frame(query_results):\n",
    "    \n",
    "    detections_list = []\n",
    "    for i in range(len(query_results)):\n",
    "    #for i in range(15,30):\n",
    "        \n",
    "        frame_detections = {\n",
    "            \"frame_id\" : 0,\n",
    "            \"number_detections\": 0,\n",
    "            \"detections\" : [],\n",
    "            \"max_confidence\" : 0\n",
    "        }\n",
    "        frame_detections[\"frame_id\"] = int(query_results[i]['frame_id']['S'])\n",
    "        if len((query_results[i]['detections']['L'])) > 0:\n",
    "            #print(\"Detections\" , len((model_results[i]['detections']['L'])), model_results[i]['detections']['L'] )\n",
    "            \n",
    "            for p in range(0, len((query_results[i]['detections']['L']))):\n",
    "                frame_detections[\"detections\"].append(query_results[i]['detections']['L'][p]['S'])\n",
    "                #frame_detections[\"detections\"].append(((model_results[i]['detections']['L'][i]))\n",
    "        \n",
    "        \n",
    "        #determining the maximium confidence from a frame\n",
    "        \n",
    "        \n",
    "        frame_detections['number_detections'] = len(frame_detections['detections'])\n",
    "        \n",
    "        #frame_detections['detections'] = detections_string_fix(frame_detections['detections'])\n",
    "        detections_list.append(frame_detections)\n",
    "        \n",
    "    \n",
    "    return detections_list\n",
    "detections_per_frame = get_detections_of_frame(model_results)\n",
    "\n",
    "\n",
    "\n",
    "print(len(detections_per_frame))\n",
    "for i in range(0,len(detections_per_frame)-1):\n",
    "    detections_per_frame[i][\"detections\"] = detections_string_fix(detections_per_frame[i][\"detections\"])\n"
   ]
  },
  {
   "cell_type": "code",
   "execution_count": 231,
   "metadata": {},
   "outputs": [],
   "source": [
    "data = detections_per_frame\n",
    "\n"
   ]
  },
  {
   "cell_type": "code",
   "execution_count": 232,
   "metadata": {},
   "outputs": [
    {
     "name": "stdout",
     "output_type": "stream",
     "text": [
      "[{'frame_id': 1, 'number_detections': 0, 'detections': [], 'max_confidence': 0}, {'frame_id': 1, 'number_detections': 1, 'detections': [['person', 0.92482590675354]], 'max_confidence': 0}, {'frame_id': 2, 'number_detections': 1, 'detections': [['person', 0.76482590675354]], 'max_confidence': 0}, {'frame_id': 3, 'number_detections': 1, 'detections': [['person', 0.3018590675354]], 'max_confidence': 0}, {'frame_id': 3, 'number_detections': 1, 'detections': [['gun', 0.33333]], 'max_confidence': 0}, {'frame_id': 1, 'number_detections': 1, 'detections': [['person', 0.621976375579834]], 'max_confidence': 0}, {'frame_id': 1, 'number_detections': 1, 'detections': [['person', 0.621976375579834]], 'max_confidence': 0}, {'frame_id': 2, 'number_detections': 1, 'detections': [['person', 0.8111607432365417]], 'max_confidence': 0}, {'frame_id': 2, 'number_detections': 1, 'detections': [['person', 0.8111607432365417]], 'max_confidence': 0}, {'frame_id': 3, 'number_detections': 1, 'detections': [['person', 0.8257004022598267]], 'max_confidence': 0}, {'frame_id': 3, 'number_detections': 1, 'detections': [['person', 0.8257004022598267]], 'max_confidence': 0}, {'frame_id': 4, 'number_detections': 0, 'detections': [], 'max_confidence': 0}, {'frame_id': 4, 'number_detections': 0, 'detections': [], 'max_confidence': 0}, {'frame_id': 5, 'number_detections': 0, 'detections': [], 'max_confidence': 0}, {'frame_id': 5, 'number_detections': 0, 'detections': [], 'max_confidence': 0}, {'frame_id': 6, 'number_detections': 0, 'detections': [], 'max_confidence': 0}, {'frame_id': 6, 'number_detections': 0, 'detections': [], 'max_confidence': 0}, {'frame_id': 7, 'number_detections': 0, 'detections': [], 'max_confidence': 0}, {'frame_id': 7, 'number_detections': 0, 'detections': [], 'max_confidence': 0}, {'frame_id': 8, 'number_detections': 0, 'detections': [], 'max_confidence': 0}, {'frame_id': 8, 'number_detections': 0, 'detections': [], 'max_confidence': 0}, {'frame_id': 9, 'number_detections': 0, 'detections': [], 'max_confidence': 0}, {'frame_id': 9, 'number_detections': 0, 'detections': [], 'max_confidence': 0}, {'frame_id': 1, 'number_detections': 1, 'detections': [['person', 0.6314080953598022]], 'max_confidence': 0}, {'frame_id': 1, 'number_detections': 1, 'detections': [['person', 0.6314080953598022]], 'max_confidence': 0}, {'frame_id': 1, 'number_detections': 2, 'detections': [['person', 0.9129371047019958], ['person', 0.9016368985176086]], 'max_confidence': 0}, {'frame_id': 1, 'number_detections': 2, 'detections': [['person', 0.9129371047019958], ['person', 0.9016368985176086]], 'max_confidence': 0}, {'frame_id': 1, 'number_detections': 0, 'detections': [], 'max_confidence': 0}, {'frame_id': 1, 'number_detections': 0, 'detections': [], 'max_confidence': 0}, {'frame_id': 2, 'number_detections': 2, 'detections': [['person', 0.6810566782951355], ['person', 0.5012063384056091]], 'max_confidence': 0}, {'frame_id': 2, 'number_detections': 2, 'detections': [['person', 0.6810566782951355], ['person', 0.5012063384056091]], 'max_confidence': 0}, {'frame_id': 2, 'number_detections': 2, 'detections': [['person', 0.9059175848960876], ['person', 0.8975943922996521]], 'max_confidence': 0}, {'frame_id': 2, 'number_detections': 2, 'detections': [['person', 0.9059175848960876], ['person', 0.8975943922996521]], 'max_confidence': 0}, {'frame_id': 2, 'number_detections': 0, 'detections': [], 'max_confidence': 0}, {'frame_id': 2, 'number_detections': 0, 'detections': [], 'max_confidence': 0}, {'frame_id': 3, 'number_detections': 2, 'detections': [['person', 0.8045864105224609], ['person', 0.5667785406112671]], 'max_confidence': 0}, {'frame_id': 3, 'number_detections': 2, 'detections': [['person', 0.8045864105224609], ['person', 0.5667785406112671]], 'max_confidence': 0}, {'frame_id': 3, 'number_detections': 2, 'detections': [['person', 0.9209725260734558], ['person', 0.8997613191604614]], 'max_confidence': 0}, {'frame_id': 3, 'number_detections': 2, 'detections': [['person', 0.9209725260734558], ['person', 0.8997613191604614]], 'max_confidence': 0}, {'frame_id': 3, 'number_detections': 0, 'detections': [], 'max_confidence': 0}, {'frame_id': 3, 'number_detections': 0, 'detections': [], 'max_confidence': 0}, {'frame_id': 4, 'number_detections': 2, 'detections': [['person', 0.8588793873786926], ['person', 0.5887513756752014]], 'max_confidence': 0}, {'frame_id': 4, 'number_detections': 2, 'detections': [['person', 0.8588793873786926], ['person', 0.5887513756752014]], 'max_confidence': 0}, {'frame_id': 4, 'number_detections': 2, 'detections': [['person', 0.9261451959609985], ['person', 0.8872857093811035]], 'max_confidence': 0}, {'frame_id': 4, 'number_detections': 2, 'detections': [['person', 0.9261451959609985], ['person', 0.8872857093811035]], 'max_confidence': 0}, {'frame_id': 4, 'number_detections': 0, 'detections': [], 'max_confidence': 0}, {'frame_id': 4, 'number_detections': 0, 'detections': [], 'max_confidence': 0}, {'frame_id': 5, 'number_detections': 2, 'detections': [['person', 0.6653135418891907], ['person', 0.6263298392295837]], 'max_confidence': 0}, {'frame_id': 5, 'number_detections': 2, 'detections': [['person', 0.6653135418891907], ['person', 0.6263298392295837]], 'max_confidence': 0}, {'frame_id': 5, 'number_detections': 2, 'detections': [['person', 0.9219332337379456], ['person', 0.8964255452156067]], 'max_confidence': 0}, {'frame_id': 5, 'number_detections': 2, 'detections': [['person', 0.9219332337379456], ['person', 0.8964255452156067]], 'max_confidence': 0}, {'frame_id': 5, 'number_detections': 0, 'detections': [], 'max_confidence': 0}, {'frame_id': 5, 'number_detections': 0, 'detections': [], 'max_confidence': 0}, {'frame_id': 6, 'number_detections': 1, 'detections': [['person', 0.5414144396781921]], 'max_confidence': 0}, {'frame_id': 6, 'number_detections': 1, 'detections': [['person', 0.5414144396781921]], 'max_confidence': 0}, {'frame_id': 6, 'number_detections': 2, 'detections': [['person', 0.9262858629226685], ['person', 0.8959049582481384]], 'max_confidence': 0}, {'frame_id': 6, 'number_detections': 2, 'detections': [['person', 0.9262858629226685], ['person', 0.8959049582481384]], 'max_confidence': 0}, {'frame_id': 6, 'number_detections': 0, 'detections': [], 'max_confidence': 0}, {'frame_id': 6, 'number_detections': 0, 'detections': [], 'max_confidence': 0}, {'frame_id': 7, 'number_detections': 1, 'detections': [['person', 0.5094165802001953]], 'max_confidence': 0}, {'frame_id': 7, 'number_detections': 1, 'detections': [['person', 0.5094165802001953]], 'max_confidence': 0}, {'frame_id': 7, 'number_detections': 2, 'detections': [['person', 0.8961716294288635], ['person', 0.8926148414611816]], 'max_confidence': 0}, {'frame_id': 7, 'number_detections': 2, 'detections': [['person', 0.8961716294288635], ['person', 0.8926148414611816]], 'max_confidence': 0}, {'frame_id': 7, 'number_detections': 0, 'detections': [], 'max_confidence': 0}, {'frame_id': 7, 'number_detections': 0, 'detections': [], 'max_confidence': 0}, {'frame_id': 8, 'number_detections': 0, 'detections': [], 'max_confidence': 0}, {'frame_id': 8, 'number_detections': 0, 'detections': [], 'max_confidence': 0}, {'frame_id': 8, 'number_detections': 2, 'detections': [['person', 0.8913660049438477], ['person', 0.5990840196609497]], 'max_confidence': 0}, {'frame_id': 8, 'number_detections': 2, 'detections': [['person', 0.8913660049438477], ['person', 0.5990840196609497]], 'max_confidence': 0}, {'frame_id': 8, 'number_detections': 0, 'detections': [], 'max_confidence': 0}, {'frame_id': 8, 'number_detections': 0, 'detections': [], 'max_confidence': 0}, {'frame_id': 9, 'number_detections': 0, 'detections': [], 'max_confidence': 0}, {'frame_id': 9, 'number_detections': 0, 'detections': [], 'max_confidence': 0}, {'frame_id': 9, 'number_detections': 2, 'detections': [['person', 0.9140077829360962], ['person', 0.8198025822639465]], 'max_confidence': 0}, {'frame_id': 9, 'number_detections': 2, 'detections': [['person', 0.9140077829360962], ['person', 0.8198025822639465]], 'max_confidence': 0}, {'frame_id': 9, 'number_detections': 0, 'detections': [], 'max_confidence': 0}, {'frame_id': 9, 'number_detections': 0, 'detections': [], 'max_confidence': 0}, {'frame_id': 10, 'number_detections': 2, 'detections': [['person', 0.8110600709915161], ['person', 0.4832087755203247]], 'max_confidence': 0}, {'frame_id': 10, 'number_detections': 2, 'detections': [['person', 0.8110600709915161], ['person', 0.4832087755203247]], 'max_confidence': 0}, {'frame_id': 10, 'number_detections': 2, 'detections': [['person', 0.9012238383293152], ['person', 0.8445745706558228]], 'max_confidence': 0}, {'frame_id': 10, 'number_detections': 2, 'detections': [['person', 0.9012238383293152], ['person', 0.8445745706558228]], 'max_confidence': 0}, {'frame_id': 10, 'number_detections': 0, 'detections': [], 'max_confidence': 0}, {'frame_id': 10, 'number_detections': 0, 'detections': [], 'max_confidence': 0}, {'frame_id': 11, 'number_detections': 1, 'detections': [['person', 0.8835656046867371]], 'max_confidence': 0}, {'frame_id': 11, 'number_detections': 1, 'detections': [['person', 0.8835656046867371]], 'max_confidence': 0}, {'frame_id': 11, 'number_detections': 2, 'detections': [['person', 0.9052011370658875], ['person', 0.8767687678337097]], 'max_confidence': 0}, {'frame_id': 11, 'number_detections': 2, 'detections': [['person', 0.9052011370658875], ['person', 0.8767687678337097]], 'max_confidence': 0}, {'frame_id': 11, 'number_detections': 0, 'detections': [], 'max_confidence': 0}, {'frame_id': 11, 'number_detections': 0, 'detections': [], 'max_confidence': 0}, {'frame_id': 12, 'number_detections': 1, 'detections': [['person', 0.7814868688583374]], 'max_confidence': 0}, {'frame_id': 12, 'number_detections': 1, 'detections': [['person', 0.7814868688583374]], 'max_confidence': 0}, {'frame_id': 12, 'number_detections': 2, 'detections': [['person', 0.8981298208236694], ['person', 0.8679638504981995]], 'max_confidence': 0}, {'frame_id': 12, 'number_detections': 2, 'detections': [['person', 0.8981298208236694], ['person', 0.8679638504981995]], 'max_confidence': 0}, {'frame_id': 12, 'number_detections': 0, 'detections': [], 'max_confidence': 0}, {'frame_id': 12, 'number_detections': 0, 'detections': [], 'max_confidence': 0}, {'frame_id': 13, 'number_detections': 1, 'detections': [['person', 0.7355619072914124]], 'max_confidence': 0}, {'frame_id': 13, 'number_detections': 1, 'detections': [['person', 0.7355619072914124]], 'max_confidence': 0}, {'frame_id': 13, 'number_detections': 2, 'detections': [['person', 0.9026943445205688], ['person', 0.8563797473907471]], 'max_confidence': 0}, {'frame_id': 13, 'number_detections': 2, 'detections': [['person', 0.9026943445205688], ['person', 0.8563797473907471]], 'max_confidence': 0}, {'frame_id': 13, 'number_detections': 0, 'detections': [], 'max_confidence': 0}, {'frame_id': 13, 'number_detections': 0, 'detections': [], 'max_confidence': 0}, {'frame_id': 14, 'number_detections': 1, 'detections': [['person', 0.8319552540779114]], 'max_confidence': 0}, {'frame_id': 14, 'number_detections': 1, 'detections': [['person', 0.8319552540779114]], 'max_confidence': 0}, {'frame_id': 14, 'number_detections': 2, 'detections': [['person', 0.9222511053085327], ['person', 0.8939865827560425]], 'max_confidence': 0}, {'frame_id': 14, 'number_detections': 2, 'detections': [['person', 0.9222511053085327], ['person', 0.8939865827560425]], 'max_confidence': 0}, {'frame_id': 14, 'number_detections': 0, 'detections': [], 'max_confidence': 0}, {'frame_id': 14, 'number_detections': 0, 'detections': [], 'max_confidence': 0}, {'frame_id': 15, 'number_detections': 1, 'detections': [['person', 0.8822512626647949]], 'max_confidence': 0}, {'frame_id': 15, 'number_detections': 1, 'detections': [['person', 0.8822512626647949]], 'max_confidence': 0}, {'frame_id': 15, 'number_detections': 2, 'detections': [['person', 0.9244593381881714], ['person', 0.8788223266601562]], 'max_confidence': 0}, {'frame_id': 15, 'number_detections': 2, 'detections': [['person', 0.9244593381881714], ['person', 0.8788223266601562]], 'max_confidence': 0}, {'frame_id': 15, 'number_detections': 0, 'detections': [], 'max_confidence': 0}, {'frame_id': 15, 'number_detections': 0, 'detections': [], 'max_confidence': 0}, {'frame_id': 16, 'number_detections': 1, 'detections': [['person', 0.9122845530509949]], 'max_confidence': 0}, {'frame_id': 16, 'number_detections': 1, 'detections': [['person', 0.9122845530509949]], 'max_confidence': 0}, {'frame_id': 16, 'number_detections': 2, 'detections': [['person', 0.92462158203125], ['person', 0.8658497333526611]], 'max_confidence': 0}, {'frame_id': 16, 'number_detections': 2, 'detections': [['person', 0.92462158203125], ['person', 0.8658497333526611]], 'max_confidence': 0}, {'frame_id': 16, 'number_detections': 0, 'detections': [], 'max_confidence': 0}, {'frame_id': 16, 'number_detections': 0, 'detections': [], 'max_confidence': 0}, {'frame_id': 17, 'number_detections': 1, 'detections': [['person', 0.9100658297538757]], 'max_confidence': 0}, {'frame_id': 17, 'number_detections': 1, 'detections': [['person', 0.9100658297538757]], 'max_confidence': 0}, {'frame_id': 17, 'number_detections': 2, 'detections': [['person', 0.9268838167190552], ['person', 0.8748182058334351]], 'max_confidence': 0}, {'frame_id': 17, 'number_detections': 2, 'detections': [['person', 0.9268838167190552], ['person', 0.8748182058334351]], 'max_confidence': 0}, {'frame_id': 17, 'number_detections': 0, 'detections': [], 'max_confidence': 0}, {'frame_id': 17, 'number_detections': 0, 'detections': [], 'max_confidence': 0}, {'frame_id': 18, 'number_detections': 1, 'detections': [['person', 0.8829478621482849]], 'max_confidence': 0}, {'frame_id': 18, 'number_detections': 1, 'detections': [['person', 0.8829478621482849]], 'max_confidence': 0}, {'frame_id': 18, 'number_detections': 2, 'detections': [['person', 0.92188960313797], ['person', 0.8493987321853638]], 'max_confidence': 0}, {'frame_id': 18, 'number_detections': 2, 'detections': [['person', 0.92188960313797], ['person', 0.8493987321853638]], 'max_confidence': 0}, {'frame_id': 18, 'number_detections': 0, 'detections': [], 'max_confidence': 0}, {'frame_id': 18, 'number_detections': 0, 'detections': [], 'max_confidence': 0}, {'frame_id': 19, 'number_detections': 1, 'detections': [['person', 0.9170128703117371]], 'max_confidence': 0}, {'frame_id': 19, 'number_detections': 1, 'detections': [['person', 0.9170128703117371]], 'max_confidence': 0}, {'frame_id': 19, 'number_detections': 2, 'detections': [['person', 0.9217591285705566], ['person', 0.8607979416847229]], 'max_confidence': 0}, {'frame_id': 19, 'number_detections': 2, 'detections': [['person', 0.9217591285705566], ['person', 0.8607979416847229]], 'max_confidence': 0}, {'frame_id': 19, 'number_detections': 0, 'detections': [], 'max_confidence': 0}, {'frame_id': 19, 'number_detections': 0, 'detections': [], 'max_confidence': 0}, {'frame_id': 20, 'number_detections': 1, 'detections': [['person', 0.8912149667739868]], 'max_confidence': 0}, {'frame_id': 20, 'number_detections': 1, 'detections': [['person', 0.8912149667739868]], 'max_confidence': 0}, {'frame_id': 20, 'number_detections': 2, 'detections': [['person', 0.9269862771034241], ['person', 0.8349125981330872]], 'max_confidence': 0}, {'frame_id': 20, 'number_detections': 2, 'detections': [['person', 0.9269862771034241], ['person', 0.8349125981330872]], 'max_confidence': 0}, {'frame_id': 20, 'number_detections': 0, 'detections': [], 'max_confidence': 0}, {'frame_id': 20, 'number_detections': 0, 'detections': [], 'max_confidence': 0}, {'frame_id': 21, 'number_detections': 1, 'detections': [['person', 0.9140029549598694]], 'max_confidence': 0}, {'frame_id': 21, 'number_detections': 1, 'detections': [['person', 0.9140029549598694]], 'max_confidence': 0}, {'frame_id': 21, 'number_detections': 2, 'detections': [['person', 0.9314534068107605], ['person', 0.8309327960014343]], 'max_confidence': 0}, {'frame_id': 21, 'number_detections': 2, 'detections': [['person', 0.9314534068107605], ['person', 0.8309327960014343]], 'max_confidence': 0}, {'frame_id': 21, 'number_detections': 0, 'detections': [], 'max_confidence': 0}, {'frame_id': 21, 'number_detections': 0, 'detections': [], 'max_confidence': 0}, {'frame_id': 22, 'number_detections': 1, 'detections': [['person', 0.9166629314422607]], 'max_confidence': 0}, {'frame_id': 22, 'number_detections': 1, 'detections': [['person', 0.9166629314422607]], 'max_confidence': 0}, {'frame_id': 22, 'number_detections': 2, 'detections': [['person', 0.935076892375946], ['person', 0.8410730957984924]], 'max_confidence': 0}, {'frame_id': 22, 'number_detections': 2, 'detections': [['person', 0.935076892375946], ['person', 0.8410730957984924]], 'max_confidence': 0}, {'frame_id': 22, 'number_detections': 0, 'detections': [], 'max_confidence': 0}, {'frame_id': 22, 'number_detections': 0, 'detections': [], 'max_confidence': 0}, {'frame_id': 23, 'number_detections': 1, 'detections': [['person', 0.9285755157470703]], 'max_confidence': 0}, {'frame_id': 23, 'number_detections': 1, 'detections': [['person', 0.9285755157470703]], 'max_confidence': 0}, {'frame_id': 23, 'number_detections': 2, 'detections': [['person', 0.9333763122558594], ['person', 0.8368082046508789]], 'max_confidence': 0}, {'frame_id': 23, 'number_detections': 2, 'detections': [['person', 0.9333763122558594], ['person', 0.8368082046508789]], 'max_confidence': 0}, {'frame_id': 23, 'number_detections': 0, 'detections': [], 'max_confidence': 0}, {'frame_id': 23, 'number_detections': 0, 'detections': [], 'max_confidence': 0}, {'frame_id': 24, 'number_detections': 1, 'detections': [['person', 0.9295282363891602]], 'max_confidence': 0}, {'frame_id': 24, 'number_detections': 1, 'detections': [['person', 0.9295282363891602]], 'max_confidence': 0}, {'frame_id': 24, 'number_detections': 2, 'detections': [['person', 0.9341682195663452], ['person', 0.8413458466529846]], 'max_confidence': 0}, {'frame_id': 24, 'number_detections': 2, 'detections': [['person', 0.9341682195663452], ['person', 0.8413458466529846]], 'max_confidence': 0}, {'frame_id': 24, 'number_detections': 0, 'detections': [], 'max_confidence': 0}, {'frame_id': 24, 'number_detections': 0, 'detections': [], 'max_confidence': 0}, {'frame_id': 25, 'number_detections': 1, 'detections': [['person', 0.9261771440505981]], 'max_confidence': 0}, {'frame_id': 25, 'number_detections': 1, 'detections': [['person', 0.9261771440505981]], 'max_confidence': 0}, {'frame_id': 25, 'number_detections': 2, 'detections': [['person', 0.9319376349449158], ['person', 0.8520288467407227]], 'max_confidence': 0}, {'frame_id': 25, 'number_detections': 2, 'detections': [['person', 0.9319376349449158], ['person', 0.8520288467407227]], 'max_confidence': 0}, {'frame_id': 25, 'number_detections': 0, 'detections': [], 'max_confidence': 0}, {'frame_id': 25, 'number_detections': 0, 'detections': [], 'max_confidence': 0}, {'frame_id': 26, 'number_detections': 1, 'detections': [['person', 0.9267099499702454]], 'max_confidence': 0}, {'frame_id': 26, 'number_detections': 1, 'detections': [['person', 0.9267099499702454]], 'max_confidence': 0}, {'frame_id': 26, 'number_detections': 2, 'detections': [['person', 0.9318687915802002], ['person', 0.8267087936401367]], 'max_confidence': 0}, {'frame_id': 26, 'number_detections': 2, 'detections': [['person', 0.9318687915802002], ['person', 0.8267087936401367]], 'max_confidence': 0}, {'frame_id': 26, 'number_detections': 0, 'detections': [], 'max_confidence': 0}, {'frame_id': 26, 'number_detections': 0, 'detections': [], 'max_confidence': 0}, {'frame_id': 27, 'number_detections': 1, 'detections': [['person', 0.9301843643188477]], 'max_confidence': 0}, {'frame_id': 27, 'number_detections': 1, 'detections': [['person', 0.9301843643188477]], 'max_confidence': 0}, {'frame_id': 27, 'number_detections': 2, 'detections': [['person', 0.9316421151161194], ['person', 0.8277949690818787]], 'max_confidence': 0}, {'frame_id': 27, 'number_detections': 2, 'detections': [['person', 0.9316421151161194], ['person', 0.8277949690818787]], 'max_confidence': 0}, {'frame_id': 27, 'number_detections': 0, 'detections': [], 'max_confidence': 0}, {'frame_id': 27, 'number_detections': 0, 'detections': [], 'max_confidence': 0}, {'frame_id': 28, 'number_detections': 1, 'detections': [['person', 0.9151363968849182]], 'max_confidence': 0}, {'frame_id': 28, 'number_detections': 1, 'detections': [['person', 0.9151363968849182]], 'max_confidence': 0}, {'frame_id': 28, 'number_detections': 2, 'detections': [['person', 0.9316079020500183], ['person', 0.8056443929672241]], 'max_confidence': 0}, {'frame_id': 28, 'number_detections': 2, 'detections': [['person', 0.9316079020500183], ['person', 0.8056443929672241]], 'max_confidence': 0}, {'frame_id': 28, 'number_detections': 0, 'detections': [], 'max_confidence': 0}, {'frame_id': 28, 'number_detections': 0, 'detections': [], 'max_confidence': 0}, {'frame_id': 29, 'number_detections': 1, 'detections': [['person', 0.8805932402610779]], 'max_confidence': 0}, {'frame_id': 29, 'number_detections': 1, 'detections': [['person', 0.8805932402610779]], 'max_confidence': 0}, {'frame_id': 29, 'number_detections': 2, 'detections': [['person', 0.9313293099403381], ['person', 0.7986973524093628]], 'max_confidence': 0}, {'frame_id': 29, 'number_detections': 2, 'detections': [['person', 0.9313293099403381], ['person', 0.7986973524093628]], 'max_confidence': 0}, {'frame_id': 29, 'number_detections': 0, 'detections': [], 'max_confidence': 0}, {'frame_id': 29, 'number_detections': 0, 'detections': [], 'max_confidence': 0}, {'frame_id': 30, 'number_detections': 1, 'detections': [['person', 0.8940252065658569]], 'max_confidence': 0}, {'frame_id': 30, 'number_detections': 1, 'detections': [['person', 0.8940252065658569]], 'max_confidence': 0}, {'frame_id': 30, 'number_detections': 2, 'detections': [['person', 0.9316172003746033], ['person', 0.8031143546104431]], 'max_confidence': 0}, {'frame_id': 30, 'number_detections': 2, 'detections': [['person', 0.9316172003746033], ['person', 0.8031143546104431]], 'max_confidence': 0}, {'frame_id': 30, 'number_detections': 0, 'detections': [], 'max_confidence': 0}, {'frame_id': 30, 'number_detections': 0, 'detections': [], 'max_confidence': 0}, {'frame_id': 31, 'number_detections': 2, 'detections': [['person', 0.9287658333778381], ['person', 0.5697818994522095]], 'max_confidence': 0}, {'frame_id': 31, 'number_detections': 2, 'detections': [['person', 0.9287658333778381], ['person', 0.5697818994522095]], 'max_confidence': 0}, {'frame_id': 31, 'number_detections': 2, 'detections': [['person', 0.9310035705566406], ['person', 0.8739827275276184]], 'max_confidence': 0}, {'frame_id': 31, 'number_detections': 2, 'detections': [['person', 0.9310035705566406], ['person', 0.8739827275276184]], 'max_confidence': 0}, {'frame_id': 31, 'number_detections': 0, 'detections': [], 'max_confidence': 0}, {'frame_id': 31, 'number_detections': 0, 'detections': [], 'max_confidence': 0}, {'frame_id': 32, 'number_detections': 2, 'detections': [['person', 0.8151456713676453], ['person', 0.604598343372345]], 'max_confidence': 0}, {'frame_id': 32, 'number_detections': 2, 'detections': [['person', 0.8151456713676453], ['person', 0.604598343372345]], 'max_confidence': 0}, {'frame_id': 32, 'number_detections': 2, 'detections': [['person', 0.923746645450592], ['person', 0.870223343372345]], 'max_confidence': 0}, {'frame_id': 32, 'number_detections': 2, 'detections': [['person', 0.923746645450592], ['person', 0.870223343372345]], 'max_confidence': 0}, {'frame_id': 32, 'number_detections': 0, 'detections': [], 'max_confidence': 0}, {'frame_id': 32, 'number_detections': 0, 'detections': [], 'max_confidence': 0}, {'frame_id': 33, 'number_detections': 2, 'detections': [['person', 0.8297199606895447], ['person', 0.5906035304069519]], 'max_confidence': 0}, {'frame_id': 33, 'number_detections': 2, 'detections': [['person', 0.8297199606895447], ['person', 0.5906035304069519]], 'max_confidence': 0}, {'frame_id': 33, 'number_detections': 2, 'detections': [['person', 0.9253238439559937], ['person', 0.8697940707206726]], 'max_confidence': 0}, {'frame_id': 33, 'number_detections': 2, 'detections': [['person', 0.9253238439559937], ['person', 0.8697940707206726]], 'max_confidence': 0}, {'frame_id': 33, 'number_detections': 0, 'detections': [], 'max_confidence': 0}, {'frame_id': 33, 'number_detections': 0, 'detections': [], 'max_confidence': 0}, {'frame_id': 34, 'number_detections': 2, 'detections': [['person', 0.8613411784172058], ['person', 0.45882874727249146]], 'max_confidence': 0}, {'frame_id': 34, 'number_detections': 2, 'detections': [['person', 0.8613411784172058], ['person', 0.45882874727249146]], 'max_confidence': 0}, {'frame_id': 34, 'number_detections': 2, 'detections': [['person', 0.9337767362594604], ['person', 0.8578915596008301]], 'max_confidence': 0}, {'frame_id': 34, 'number_detections': 2, 'detections': [['person', 0.9337767362594604], ['person', 0.8578915596008301]], 'max_confidence': 0}, {'frame_id': 34, 'number_detections': 0, 'detections': [], 'max_confidence': 0}, {'frame_id': 34, 'number_detections': 0, 'detections': [], 'max_confidence': 0}, {'frame_id': 35, 'number_detections': 2, 'detections': [['person', 0.8107624053955078], ['person', 0.43318971991539]], 'max_confidence': 0}, {'frame_id': 35, 'number_detections': 2, 'detections': [['person', 0.8107624053955078], ['person', 0.43318971991539]], 'max_confidence': 0}, {'frame_id': 35, 'number_detections': 2, 'detections': [['person', 0.9290826320648193], ['person', 0.8221588134765625]], 'max_confidence': 0}, {'frame_id': 35, 'number_detections': 2, 'detections': [['person', 0.9290826320648193], ['person', 0.8221588134765625]], 'max_confidence': 0}, {'frame_id': 35, 'number_detections': 0, 'detections': [], 'max_confidence': 0}, {'frame_id': 35, 'number_detections': 0, 'detections': [], 'max_confidence': 0}, {'frame_id': 36, 'number_detections': 1, 'detections': [['person', 0.7804677486419678]], 'max_confidence': 0}, {'frame_id': 36, 'number_detections': 1, 'detections': [['person', 0.7804677486419678]], 'max_confidence': 0}, {'frame_id': 36, 'number_detections': 2, 'detections': [['person', 0.926077127456665], ['person', 0.8270372152328491]], 'max_confidence': 0}, {'frame_id': 36, 'number_detections': 2, 'detections': [['person', 0.926077127456665], ['person', 0.8270372152328491]], 'max_confidence': 0}, {'frame_id': 36, 'number_detections': 0, 'detections': [], 'max_confidence': 0}, {'frame_id': 36, 'number_detections': 0, 'detections': [], 'max_confidence': 0}, {'frame_id': 37, 'number_detections': 2, 'detections': [['person', 0.7014595866203308], ['person', 0.4624415636062622]], 'max_confidence': 0}, {'frame_id': 37, 'number_detections': 2, 'detections': [['person', 0.7014595866203308], ['person', 0.4624415636062622]], 'max_confidence': 0}, {'frame_id': 37, 'number_detections': 2, 'detections': [['person', 0.9241015911102295], ['person', 0.8269873261451721]], 'max_confidence': 0}, {'frame_id': 37, 'number_detections': 2, 'detections': [['person', 0.9241015911102295], ['person', 0.8269873261451721]], 'max_confidence': 0}, {'frame_id': 37, 'number_detections': 0, 'detections': [], 'max_confidence': 0}, {'frame_id': 37, 'number_detections': 0, 'detections': [], 'max_confidence': 0}, {'frame_id': 38, 'number_detections': 1, 'detections': [['person', 0.7262240648269653]], 'max_confidence': 0}, {'frame_id': 38, 'number_detections': 1, 'detections': [['person', 0.7262240648269653]], 'max_confidence': 0}, {'frame_id': 38, 'number_detections': 2, 'detections': [['person', 0.9230021834373474], ['person', 0.8124699592590332]], 'max_confidence': 0}, {'frame_id': 38, 'number_detections': 2, 'detections': [['person', 0.9230021834373474], ['person', 0.8124699592590332]], 'max_confidence': 0}, {'frame_id': 38, 'number_detections': 0, 'detections': [], 'max_confidence': 0}, {'frame_id': 38, 'number_detections': 0, 'detections': [], 'max_confidence': 0}, {'frame_id': 39, 'number_detections': 1, 'detections': [['person', 0.7966904640197754]], 'max_confidence': 0}, {'frame_id': 39, 'number_detections': 1, 'detections': [['person', 0.7966904640197754]], 'max_confidence': 0}, {'frame_id': 39, 'number_detections': 2, 'detections': [['person', 0.9295686483383179], ['person', 0.8295192718505859]], 'max_confidence': 0}, {'frame_id': 39, 'number_detections': 2, 'detections': [['person', 0.9295686483383179], ['person', 0.8295192718505859]], 'max_confidence': 0}, {'frame_id': 39, 'number_detections': 0, 'detections': [], 'max_confidence': 0}, {'frame_id': 39, 'number_detections': 0, 'detections': [], 'max_confidence': 0}, {'frame_id': 40, 'number_detections': 1, 'detections': [['person', 0.9087712168693542]], 'max_confidence': 0}, {'frame_id': 40, 'number_detections': 1, 'detections': [['person', 0.9087712168693542]], 'max_confidence': 0}, {'frame_id': 40, 'number_detections': 2, 'detections': [['person', 0.9286131262779236], ['person', 0.8547366857528687]], 'max_confidence': 0}, {'frame_id': 40, 'number_detections': 2, 'detections': [['person', 0.9286131262779236], ['person', 0.8547366857528687]], 'max_confidence': 0}, {'frame_id': 40, 'number_detections': 0, 'detections': [], 'max_confidence': 0}, {'frame_id': 40, 'number_detections': 0, 'detections': [], 'max_confidence': 0}, {'frame_id': 41, 'number_detections': 1, 'detections': [['person', 0.9209203124046326]], 'max_confidence': 0}, {'frame_id': 41, 'number_detections': 1, 'detections': [['person', 0.9209203124046326]], 'max_confidence': 0}, {'frame_id': 41, 'number_detections': 2, 'detections': [['person', 0.917455792427063], ['person', 0.851762592792511]], 'max_confidence': 0}, {'frame_id': 41, 'number_detections': 2, 'detections': [['person', 0.917455792427063], ['person', 0.851762592792511]], 'max_confidence': 0}, {'frame_id': 41, 'number_detections': 0, 'detections': [], 'max_confidence': 0}, {'frame_id': 41, 'number_detections': 0, 'detections': [], 'max_confidence': 0}, {'frame_id': 42, 'number_detections': 1, 'detections': [['person', 0.910876452922821]], 'max_confidence': 0}, {'frame_id': 42, 'number_detections': 1, 'detections': [['person', 0.910876452922821]], 'max_confidence': 0}, {'frame_id': 42, 'number_detections': 2, 'detections': [['person', 0.9335647821426392], ['person', 0.8498485088348389]], 'max_confidence': 0}, {'frame_id': 42, 'number_detections': 2, 'detections': [['person', 0.9335647821426392], ['person', 0.8498485088348389]], 'max_confidence': 0}, {'frame_id': 42, 'number_detections': 0, 'detections': [], 'max_confidence': 0}, {'frame_id': 42, 'number_detections': 0, 'detections': [], 'max_confidence': 0}, {'frame_id': 43, 'number_detections': 1, 'detections': [['person', 0.8950007557868958]], 'max_confidence': 0}, {'frame_id': 43, 'number_detections': 1, 'detections': [['person', 0.8950007557868958]], 'max_confidence': 0}, {'frame_id': 43, 'number_detections': 2, 'detections': [['person', 0.9273744821548462], ['person', 0.8395593166351318]], 'max_confidence': 0}, {'frame_id': 43, 'number_detections': 2, 'detections': [['person', 0.9273744821548462], ['person', 0.8395593166351318]], 'max_confidence': 0}, {'frame_id': 43, 'number_detections': 0, 'detections': [], 'max_confidence': 0}, {'frame_id': 43, 'number_detections': 0, 'detections': [], 'max_confidence': 0}, {'frame_id': 44, 'number_detections': 1, 'detections': [['person', 0.9084632396697998]], 'max_confidence': 0}, {'frame_id': 44, 'number_detections': 1, 'detections': [['person', 0.9084632396697998]], 'max_confidence': 0}, {'frame_id': 44, 'number_detections': 2, 'detections': [['person', 0.9356510043144226], ['person', 0.8565882444381714]], 'max_confidence': 0}, {'frame_id': 44, 'number_detections': 2, 'detections': [['person', 0.9356510043144226], ['person', 0.8565882444381714]], 'max_confidence': 0}, {'frame_id': 44, 'number_detections': 0, 'detections': [], 'max_confidence': 0}, {'frame_id': 44, 'number_detections': 0, 'detections': [], 'max_confidence': 0}, {'frame_id': 45, 'number_detections': 2, 'detections': [['person', 0.9167045950889587], ['person', 0.4200509488582611]], 'max_confidence': 0}, {'frame_id': 45, 'number_detections': 2, 'detections': [['person', 0.9167045950889587], ['person', 0.4200509488582611]], 'max_confidence': 0}, {'frame_id': 45, 'number_detections': 2, 'detections': [['person', 0.9368835091590881], ['person', 0.8749455809593201]], 'max_confidence': 0}, {'frame_id': 45, 'number_detections': 2, 'detections': [['person', 0.9368835091590881], ['person', 0.8749455809593201]], 'max_confidence': 0}, {'frame_id': 45, 'number_detections': 0, 'detections': [], 'max_confidence': 0}, {'frame_id': 45, 'number_detections': 0, 'detections': [], 'max_confidence': 0}, {'frame_id': 46, 'number_detections': 2, 'detections': [['person', 0.8843486309051514], ['person', 0.5008313655853271]], 'max_confidence': 0}, {'frame_id': 46, 'number_detections': 2, 'detections': [['person', 0.8843486309051514], ['person', 0.5008313655853271]], 'max_confidence': 0}, {'frame_id': 46, 'number_detections': 2, 'detections': [['person', 0.9372423887252808], ['person', 0.8701108694076538]], 'max_confidence': 0}, {'frame_id': 46, 'number_detections': 2, 'detections': [['person', 0.9372423887252808], ['person', 0.8701108694076538]], 'max_confidence': 0}, {'frame_id': 46, 'number_detections': 0, 'detections': [], 'max_confidence': 0}, {'frame_id': 46, 'number_detections': 0, 'detections': [], 'max_confidence': 0}, {'frame_id': 47, 'number_detections': 2, 'detections': [['person', 0.8626912832260132], ['person', 0.441372811794281]], 'max_confidence': 0}, {'frame_id': 47, 'number_detections': 2, 'detections': [['person', 0.8626912832260132], ['person', 0.441372811794281]], 'max_confidence': 0}, {'frame_id': 47, 'number_detections': 2, 'detections': [['person', 0.928307056427002], ['person', 0.8675698637962341]], 'max_confidence': 0}, {'frame_id': 47, 'number_detections': 2, 'detections': [['person', 0.928307056427002], ['person', 0.8675698637962341]], 'max_confidence': 0}, {'frame_id': 47, 'number_detections': 0, 'detections': [], 'max_confidence': 0}, {'frame_id': 47, 'number_detections': 0, 'detections': [], 'max_confidence': 0}, {'frame_id': 48, 'number_detections': 2, 'detections': [['person', 0.7645371556282043], ['person', 0.45013517141342163]], 'max_confidence': 0}, {'frame_id': 48, 'number_detections': 2, 'detections': [['person', 0.7645371556282043], ['person', 0.45013517141342163]], 'max_confidence': 0}, {'frame_id': 48, 'number_detections': 2, 'detections': [['person', 0.9298089742660522], ['person', 0.8593292832374573]], 'max_confidence': 0}, {'frame_id': 48, 'number_detections': 2, 'detections': [['person', 0.9298089742660522], ['person', 0.8593292832374573]], 'max_confidence': 0}, {'frame_id': 48, 'number_detections': 0, 'detections': [], 'max_confidence': 0}, {'frame_id': 48, 'number_detections': 0, 'detections': [], 'max_confidence': 0}, {'frame_id': 49, 'number_detections': 1, 'detections': [['person', 0.9365558624267578]], 'max_confidence': 0}, {'frame_id': 49, 'number_detections': 1, 'detections': [['person', 0.9365558624267578]], 'max_confidence': 0}, {'frame_id': 49, 'number_detections': 2, 'detections': [['person', 0.9316602945327759], ['person', 0.8684752583503723]], 'max_confidence': 0}, {'frame_id': 49, 'number_detections': 2, 'detections': [['person', 0.9316602945327759], ['person', 0.8684752583503723]], 'max_confidence': 0}, {'frame_id': 49, 'number_detections': 0, 'detections': [], 'max_confidence': 0}, {'frame_id': 49, 'number_detections': 0, 'detections': [], 'max_confidence': 0}, {'frame_id': 50, 'number_detections': 2, 'detections': [['person', 0.9413415193557739], ['person', 0.4631618559360504]], 'max_confidence': 0}, {'frame_id': 50, 'number_detections': 2, 'detections': [['person', 0.9413415193557739], ['person', 0.4631618559360504]], 'max_confidence': 0}, {'frame_id': 50, 'number_detections': 2, 'detections': [['person', 0.9310638308525085], ['person', 0.8623765707015991]], 'max_confidence': 0}, {'frame_id': 50, 'number_detections': 2, 'detections': [['person', 0.9310638308525085], ['person', 0.8623765707015991]], 'max_confidence': 0}, {'frame_id': 50, 'number_detections': 0, 'detections': [], 'max_confidence': 0}, {'frame_id': 50, 'number_detections': 0, 'detections': [], 'max_confidence': 0}, {'frame_id': 51, 'number_detections': 2, 'detections': [['person', 0.9362316131591797], ['person', 0.6415432691574097]], 'max_confidence': 0}, {'frame_id': 51, 'number_detections': 2, 'detections': [['person', 0.9362316131591797], ['person', 0.6415432691574097]], 'max_confidence': 0}, {'frame_id': 51, 'number_detections': 2, 'detections': [['person', 0.9260759353637695], ['person', 0.8626300096511841]], 'max_confidence': 0}, {'frame_id': 51, 'number_detections': 2, 'detections': [['person', 0.9260759353637695], ['person', 0.8626300096511841]], 'max_confidence': 0}, {'frame_id': 51, 'number_detections': 0, 'detections': [], 'max_confidence': 0}, {'frame_id': 51, 'number_detections': 0, 'detections': [], 'max_confidence': 0}, {'frame_id': 52, 'number_detections': 2, 'detections': [['person', 0.9411267638206482], ['person', 0.6907894015312195]], 'max_confidence': 0}, {'frame_id': 52, 'number_detections': 2, 'detections': [['person', 0.9411267638206482], ['person', 0.6907894015312195]], 'max_confidence': 0}, {'frame_id': 52, 'number_detections': 2, 'detections': [['person', 0.9298966526985168], ['person', 0.8539785146713257]], 'max_confidence': 0}, {'frame_id': 52, 'number_detections': 2, 'detections': [['person', 0.9298966526985168], ['person', 0.8539785146713257]], 'max_confidence': 0}, {'frame_id': 52, 'number_detections': 0, 'detections': [], 'max_confidence': 0}, {'frame_id': 52, 'number_detections': 0, 'detections': [], 'max_confidence': 0}, {'frame_id': 53, 'number_detections': 2, 'detections': [['person', 0.940549373626709], ['person', 0.7303557991981506]], 'max_confidence': 0}, {'frame_id': 53, 'number_detections': 2, 'detections': [['person', 0.940549373626709], ['person', 0.7303557991981506]], 'max_confidence': 0}, {'frame_id': 53, 'number_detections': 2, 'detections': [['person', 0.9325379133224487], ['person', 0.8691451549530029]], 'max_confidence': 0}, {'frame_id': 53, 'number_detections': 2, 'detections': [['person', 0.9325379133224487], ['person', 0.8691451549530029]], 'max_confidence': 0}, {'frame_id': 53, 'number_detections': 0, 'detections': [], 'max_confidence': 0}, {'frame_id': 53, 'number_detections': 0, 'detections': [], 'max_confidence': 0}, {'frame_id': 54, 'number_detections': 2, 'detections': [['person', 0.9340099096298218], ['person', 0.7070044875144958]], 'max_confidence': 0}, {'frame_id': 54, 'number_detections': 2, 'detections': [['person', 0.9340099096298218], ['person', 0.7070044875144958]], 'max_confidence': 0}, {'frame_id': 54, 'number_detections': 2, 'detections': [['person', 0.9152501821517944], ['person', 0.8640056848526001]], 'max_confidence': 0}, {'frame_id': 54, 'number_detections': 2, 'detections': [['person', 0.9152501821517944], ['person', 0.8640056848526001]], 'max_confidence': 0}, {'frame_id': 54, 'number_detections': 0, 'detections': [], 'max_confidence': 0}, {'frame_id': 54, 'number_detections': 0, 'detections': [], 'max_confidence': 0}, {'frame_id': 55, 'number_detections': 2, 'detections': [['person', 0.9097897410392761], ['person', 0.6733109951019287]], 'max_confidence': 0}, {'frame_id': 55, 'number_detections': 2, 'detections': [['person', 0.9097897410392761], ['person', 0.6733109951019287]], 'max_confidence': 0}, {'frame_id': 55, 'number_detections': 2, 'detections': [['person', 0.9121684432029724], ['person', 0.8536863923072815]], 'max_confidence': 0}, {'frame_id': 55, 'number_detections': 2, 'detections': [['person', 0.9121684432029724], ['person', 0.8536863923072815]], 'max_confidence': 0}, {'frame_id': 55, 'number_detections': 0, 'detections': [], 'max_confidence': 0}, {'frame_id': 55, 'number_detections': 0, 'detections': [], 'max_confidence': 0}, {'frame_id': 56, 'number_detections': 2, 'detections': [['person', 0.9070653915405273], ['person', 0.623521625995636]], 'max_confidence': 0}, {'frame_id': 56, 'number_detections': 2, 'detections': [['person', 0.9070653915405273], ['person', 0.623521625995636]], 'max_confidence': 0}, {'frame_id': 56, 'number_detections': 2, 'detections': [['person', 0.8913940787315369], ['person', 0.8633314967155457]], 'max_confidence': 0}, {'frame_id': 56, 'number_detections': 2, 'detections': [['person', 0.8913940787315369], ['person', 0.8633314967155457]], 'max_confidence': 0}, {'frame_id': 56, 'number_detections': 0, 'detections': [], 'max_confidence': 0}, {'frame_id': 56, 'number_detections': 0, 'detections': [], 'max_confidence': 0}, {'frame_id': 57, 'number_detections': 2, 'detections': [['person', 0.8594021201133728], ['person', 0.490888386964798]], 'max_confidence': 0}, {'frame_id': 57, 'number_detections': 2, 'detections': [['person', 0.8594021201133728], ['person', 0.490888386964798]], 'max_confidence': 0}, {'frame_id': 57, 'number_detections': 2, 'detections': [['person', 0.9136710166931152], ['person', 0.8524860739707947]], 'max_confidence': 0}, {'frame_id': 57, 'number_detections': 2, 'detections': [['person', 0.9136710166931152], ['person', 0.8524860739707947]], 'max_confidence': 0}, {'frame_id': 57, 'number_detections': 0, 'detections': [], 'max_confidence': 0}, {'frame_id': 57, 'number_detections': 0, 'detections': [], 'max_confidence': 0}, {'frame_id': 58, 'number_detections': 2, 'detections': [['person', 0.7616878747940063], ['person', 0.5357624292373657]], 'max_confidence': 0}, {'frame_id': 58, 'number_detections': 2, 'detections': [['person', 0.7616878747940063], ['person', 0.5357624292373657]], 'max_confidence': 0}, {'frame_id': 58, 'number_detections': 2, 'detections': [['person', 0.931803822517395], ['person', 0.8356451988220215]], 'max_confidence': 0}, {'frame_id': 58, 'number_detections': 2, 'detections': [['person', 0.931803822517395], ['person', 0.8356451988220215]], 'max_confidence': 0}, {'frame_id': 58, 'number_detections': 0, 'detections': [], 'max_confidence': 0}, {'frame_id': 58, 'number_detections': 0, 'detections': [], 'max_confidence': 0}, {'frame_id': 59, 'number_detections': 2, 'detections': [['person', 0.8996767997741699], ['person', 0.5533281564712524]], 'max_confidence': 0}, {'frame_id': 59, 'number_detections': 2, 'detections': [['person', 0.8996767997741699], ['person', 0.5533281564712524]], 'max_confidence': 0}, {'frame_id': 59, 'number_detections': 2, 'detections': [['person', 0.9267304539680481], ['person', 0.840333878993988]], 'max_confidence': 0}, {'frame_id': 59, 'number_detections': 2, 'detections': [['person', 0.9267304539680481], ['person', 0.840333878993988]], 'max_confidence': 0}, {'frame_id': 59, 'number_detections': 0, 'detections': [], 'max_confidence': 0}, {'frame_id': 59, 'number_detections': 0, 'detections': [], 'max_confidence': 0}, {'frame_id': 60, 'number_detections': 2, 'detections': [['person', 0.9081343412399292], ['person', 0.5837483406066895]], 'max_confidence': 0}, {'frame_id': 60, 'number_detections': 2, 'detections': [['person', 0.9081343412399292], ['person', 0.5837483406066895]], 'max_confidence': 0}, {'frame_id': 60, 'number_detections': 2, 'detections': [['person', 0.9188705682754517], ['person', 0.8376966118812561]], 'max_confidence': 0}, {'frame_id': 60, 'number_detections': 2, 'detections': [['person', 0.9188705682754517], ['person', 0.8376966118812561]], 'max_confidence': 0}, {'frame_id': 60, 'number_detections': 0, 'detections': [], 'max_confidence': 0}, {'frame_id': 60, 'number_detections': 0, 'detections': [], 'max_confidence': 0}, {'frame_id': 61, 'number_detections': 2, 'detections': [['person', 0.8795777559280396], ['person', 0.5594163537025452]], 'max_confidence': 0}, {'frame_id': 61, 'number_detections': 2, 'detections': [['person', 0.8795777559280396], ['person', 0.5594163537025452]], 'max_confidence': 0}, {'frame_id': 61, 'number_detections': 2, 'detections': [['person', 0.90616375207901], ['person', 0.847823977470398]], 'max_confidence': 0}, {'frame_id': 61, 'number_detections': 2, 'detections': [['person', 0.90616375207901], ['person', 0.847823977470398]], 'max_confidence': 0}, {'frame_id': 61, 'number_detections': 0, 'detections': [], 'max_confidence': 0}, {'frame_id': 61, 'number_detections': 0, 'detections': [], 'max_confidence': 0}, {'frame_id': 62, 'number_detections': 2, 'detections': [['person', 0.9177818298339844], ['person', 0.5048359036445618]], 'max_confidence': 0}, {'frame_id': 62, 'number_detections': 2, 'detections': [['person', 0.9177818298339844], ['person', 0.5048359036445618]], 'max_confidence': 0}, {'frame_id': 62, 'number_detections': 2, 'detections': [['person', 0.8992580771446228], ['person', 0.8597286939620972]], 'max_confidence': 0}, {'frame_id': 62, 'number_detections': 2, 'detections': [['person', 0.8992580771446228], ['person', 0.8597286939620972]], 'max_confidence': 0}, {'frame_id': 62, 'number_detections': 0, 'detections': [], 'max_confidence': 0}, {'frame_id': 62, 'number_detections': 0, 'detections': [], 'max_confidence': 0}, {'frame_id': 63, 'number_detections': 2, 'detections': [['person', 0.9292432069778442], ['person', 0.48829495906829834]], 'max_confidence': 0}, {'frame_id': 63, 'number_detections': 2, 'detections': [['person', 0.9292432069778442], ['person', 0.48829495906829834]], 'max_confidence': 0}, {'frame_id': 63, 'number_detections': 2, 'detections': [['person', 0.9240463376045227], ['person', 0.8630664348602295]], 'max_confidence': 0}, {'frame_id': 63, 'number_detections': 2, 'detections': [['person', 0.9240463376045227], ['person', 0.8630664348602295]], 'max_confidence': 0}, {'frame_id': 63, 'number_detections': 0, 'detections': [], 'max_confidence': 0}, {'frame_id': 63, 'number_detections': 0, 'detections': [], 'max_confidence': 0}, {'frame_id': 64, 'number_detections': 2, 'detections': [['person', 0.9343283176422119], ['person', 0.4664209187030792]], 'max_confidence': 0}, {'frame_id': 64, 'number_detections': 2, 'detections': [['person', 0.9343283176422119], ['person', 0.4664209187030792]], 'max_confidence': 0}, {'frame_id': 64, 'number_detections': 2, 'detections': [['person', 0.9270509481430054], ['person', 0.8730616569519043]], 'max_confidence': 0}, {'frame_id': 64, 'number_detections': 2, 'detections': [['person', 0.9270509481430054], ['person', 0.8730616569519043]], 'max_confidence': 0}, {'frame_id': 64, 'number_detections': 0, 'detections': [], 'max_confidence': 0}, {'frame_id': 64, 'number_detections': 0, 'detections': [], 'max_confidence': 0}, {'frame_id': 65, 'number_detections': 2, 'detections': [['person', 0.9074254035949707], ['person', 0.456644743680954]], 'max_confidence': 0}, {'frame_id': 65, 'number_detections': 2, 'detections': [['person', 0.9074254035949707], ['person', 0.456644743680954]], 'max_confidence': 0}, {'frame_id': 65, 'number_detections': 2, 'detections': [['person', 0.9275105595588684], ['person', 0.8780167698860168]], 'max_confidence': 0}, {'frame_id': 65, 'number_detections': 2, 'detections': [['person', 0.9275105595588684], ['person', 0.8780167698860168]], 'max_confidence': 0}, {'frame_id': 65, 'number_detections': 0, 'detections': [], 'max_confidence': 0}, {'frame_id': 65, 'number_detections': 0, 'detections': [], 'max_confidence': 0}, {'frame_id': 66, 'number_detections': 2, 'detections': [['person', 0.8919564485549927], ['person', 0.5517354607582092]], 'max_confidence': 0}, {'frame_id': 66, 'number_detections': 2, 'detections': [['person', 0.8919564485549927], ['person', 0.5517354607582092]], 'max_confidence': 0}, {'frame_id': 66, 'number_detections': 2, 'detections': [['person', 0.9282922744750977], ['person', 0.8873799443244934]], 'max_confidence': 0}, {'frame_id': 66, 'number_detections': 2, 'detections': [['person', 0.9282922744750977], ['person', 0.8873799443244934]], 'max_confidence': 0}, {'frame_id': 66, 'number_detections': 0, 'detections': [], 'max_confidence': 0}, {'frame_id': 66, 'number_detections': 0, 'detections': [], 'max_confidence': 0}, {'frame_id': 67, 'number_detections': 2, 'detections': [['person', 0.8939381837844849], ['person', 0.5675225257873535]], 'max_confidence': 0}, {'frame_id': 67, 'number_detections': 2, 'detections': [['person', 0.8939381837844849], ['person', 0.5675225257873535]], 'max_confidence': 0}, {'frame_id': 67, 'number_detections': 2, 'detections': [['person', 0.9268060922622681], ['person', 0.8929702639579773]], 'max_confidence': 0}, {'frame_id': 67, 'number_detections': 2, 'detections': [['person', 0.9268060922622681], ['person', 0.8929702639579773]], 'max_confidence': 0}, {'frame_id': 67, 'number_detections': 0, 'detections': [], 'max_confidence': 0}, {'frame_id': 67, 'number_detections': 0, 'detections': [], 'max_confidence': 0}, {'frame_id': 68, 'number_detections': 2, 'detections': [['person', 0.8974134922027588], ['person', 0.6324024796485901]], 'max_confidence': 0}, {'frame_id': 68, 'number_detections': 2, 'detections': [['person', 0.8974134922027588], ['person', 0.6324024796485901]], 'max_confidence': 0}, {'frame_id': 68, 'number_detections': 2, 'detections': [['person', 0.9283462762832642], ['person', 0.8958818912506104]], 'max_confidence': 0}, {'frame_id': 68, 'number_detections': 2, 'detections': [['person', 0.9283462762832642], ['person', 0.8958818912506104]], 'max_confidence': 0}, {'frame_id': 68, 'number_detections': 0, 'detections': [], 'max_confidence': 0}, {'frame_id': 68, 'number_detections': 0, 'detections': [], 'max_confidence': 0}, {'frame_id': 69, 'number_detections': 2, 'detections': [['person', 0.9287229180335999], ['person', 0.4995776116847992]], 'max_confidence': 0}, {'frame_id': 69, 'number_detections': 2, 'detections': [['person', 0.9287229180335999], ['person', 0.4995776116847992]], 'max_confidence': 0}, {'frame_id': 69, 'number_detections': 2, 'detections': [['person', 0.9242303967475891], ['person', 0.8917028903961182]], 'max_confidence': 0}, {'frame_id': 69, 'number_detections': 2, 'detections': [['person', 0.9242303967475891], ['person', 0.8917028903961182]], 'max_confidence': 0}, {'frame_id': 69, 'number_detections': 0, 'detections': [], 'max_confidence': 0}, {'frame_id': 69, 'number_detections': 0, 'detections': [], 'max_confidence': 0}, {'frame_id': 70, 'number_detections': 1, 'detections': [['person', 0.9313678741455078]], 'max_confidence': 0}, {'frame_id': 70, 'number_detections': 1, 'detections': [['person', 0.9313678741455078]], 'max_confidence': 0}, {'frame_id': 70, 'number_detections': 2, 'detections': [['person', 0.9250596761703491], ['person', 0.8946453928947449]], 'max_confidence': 0}, {'frame_id': 70, 'number_detections': 2, 'detections': [['person', 0.9250596761703491], ['person', 0.8946453928947449]], 'max_confidence': 0}, {'frame_id': 70, 'number_detections': 0, 'detections': [], 'max_confidence': 0}, {'frame_id': 70, 'number_detections': 0, 'detections': [], 'max_confidence': 0}, {'frame_id': 71, 'number_detections': 1, 'detections': [['person', 0.9010481834411621]], 'max_confidence': 0}, {'frame_id': 71, 'number_detections': 1, 'detections': [['person', 0.9010481834411621]], 'max_confidence': 0}, {'frame_id': 71, 'number_detections': 2, 'detections': [['person', 0.9303491711616516], ['person', 0.8796269297599792]], 'max_confidence': 0}, {'frame_id': 71, 'number_detections': 2, 'detections': [['person', 0.9303491711616516], ['person', 0.8796269297599792]], 'max_confidence': 0}, {'frame_id': 71, 'number_detections': 0, 'detections': [], 'max_confidence': 0}, {'frame_id': 71, 'number_detections': 0, 'detections': [], 'max_confidence': 0}, {'frame_id': 72, 'number_detections': 1, 'detections': [['person', 0.5889520645141602]], 'max_confidence': 0}, {'frame_id': 72, 'number_detections': 1, 'detections': [['person', 0.5889520645141602]], 'max_confidence': 0}, {'frame_id': 72, 'number_detections': 2, 'detections': [['person', 0.9294291734695435], ['person', 0.8716309666633606]], 'max_confidence': 0}, {'frame_id': 72, 'number_detections': 2, 'detections': [['person', 0.9294291734695435], ['person', 0.8716309666633606]], 'max_confidence': 0}, {'frame_id': 72, 'number_detections': 0, 'detections': [], 'max_confidence': 0}, {'frame_id': 72, 'number_detections': 0, 'detections': [], 'max_confidence': 0}, {'frame_id': 73, 'number_detections': 0, 'detections': [], 'max_confidence': 0}, {'frame_id': 73, 'number_detections': 0, 'detections': [], 'max_confidence': 0}, {'frame_id': 73, 'number_detections': 2, 'detections': [['person', 0.9250509142875671], ['person', 0.8705041408538818]], 'max_confidence': 0}, {'frame_id': 73, 'number_detections': 2, 'detections': [['person', 0.9250509142875671], ['person', 0.8705041408538818]], 'max_confidence': 0}, {'frame_id': 73, 'number_detections': 0, 'detections': [], 'max_confidence': 0}, {'frame_id': 73, 'number_detections': 0, 'detections': [], 'max_confidence': 0}, {'frame_id': 74, 'number_detections': 0, 'detections': [], 'max_confidence': 0}, {'frame_id': 74, 'number_detections': 0, 'detections': [], 'max_confidence': 0}, {'frame_id': 74, 'number_detections': 2, 'detections': [['person', 0.9184055924415588], ['person', 0.8711502552032471]], 'max_confidence': 0}, {'frame_id': 74, 'number_detections': 2, 'detections': [['person', 0.9184055924415588], ['person', 0.8711502552032471]], 'max_confidence': 0}, {'frame_id': 74, 'number_detections': 0, 'detections': [], 'max_confidence': 0}, {'frame_id': 74, 'number_detections': 0, 'detections': [], 'max_confidence': 0}, {'frame_id': 75, 'number_detections': 0, 'detections': [], 'max_confidence': 0}, {'frame_id': 75, 'number_detections': 0, 'detections': [], 'max_confidence': 0}, {'frame_id': 75, 'number_detections': 2, 'detections': [['person', 0.9247498512268066], ['person', 0.8669056296348572]], 'max_confidence': 0}, {'frame_id': 75, 'number_detections': 2, 'detections': [['person', 0.9247498512268066], ['person', 0.8669056296348572]], 'max_confidence': 0}, {'frame_id': 75, 'number_detections': 0, 'detections': [], 'max_confidence': 0}, {'frame_id': 75, 'number_detections': 0, 'detections': [], 'max_confidence': 0}, {'frame_id': 76, 'number_detections': 0, 'detections': [], 'max_confidence': 0}, {'frame_id': 76, 'number_detections': 0, 'detections': [], 'max_confidence': 0}, {'frame_id': 76, 'number_detections': 2, 'detections': [['person', 0.922227680683136], ['person', 0.8786748051643372]], 'max_confidence': 0}, {'frame_id': 76, 'number_detections': 2, 'detections': [['person', 0.922227680683136], ['person', 0.8786748051643372]], 'max_confidence': 0}, {'frame_id': 76, 'number_detections': 0, 'detections': [], 'max_confidence': 0}, {'frame_id': 76, 'number_detections': 0, 'detections': [], 'max_confidence': 0}, {'frame_id': 77, 'number_detections': 0, 'detections': [], 'max_confidence': 0}, {'frame_id': 77, 'number_detections': 0, 'detections': [], 'max_confidence': 0}, {'frame_id': 77, 'number_detections': 2, 'detections': [['person', 0.9258801937103271], ['person', 0.8769770860671997]], 'max_confidence': 0}, {'frame_id': 77, 'number_detections': 2, 'detections': [['person', 0.9258801937103271], ['person', 0.8769770860671997]], 'max_confidence': 0}, {'frame_id': 77, 'number_detections': 0, 'detections': [], 'max_confidence': 0}, {'frame_id': 77, 'number_detections': 0, 'detections': [], 'max_confidence': 0}, {'frame_id': 78, 'number_detections': 0, 'detections': [], 'max_confidence': 0}, {'frame_id': 78, 'number_detections': 0, 'detections': [], 'max_confidence': 0}, {'frame_id': 78, 'number_detections': 2, 'detections': [['person', 0.9257640838623047], ['person', 0.8862379789352417]], 'max_confidence': 0}, {'frame_id': 78, 'number_detections': 2, 'detections': [['person', 0.9257640838623047], ['person', 0.8862379789352417]], 'max_confidence': 0}, {'frame_id': 78, 'number_detections': 0, 'detections': [], 'max_confidence': 0}, {'frame_id': 78, 'number_detections': 0, 'detections': [], 'max_confidence': 0}, {'frame_id': 79, 'number_detections': 1, 'detections': [['person', 0.708154022693634]], 'max_confidence': 0}, {'frame_id': 79, 'number_detections': 1, 'detections': [['person', 0.708154022693634]], 'max_confidence': 0}, {'frame_id': 79, 'number_detections': 2, 'detections': [['person', 0.9216378927230835], ['person', 0.8925279974937439]], 'max_confidence': 0}, {'frame_id': 79, 'number_detections': 2, 'detections': [['person', 0.9216378927230835], ['person', 0.8925279974937439]], 'max_confidence': 0}, {'frame_id': 79, 'number_detections': 0, 'detections': [], 'max_confidence': 0}, {'frame_id': 79, 'number_detections': 0, 'detections': [], 'max_confidence': 0}, {'frame_id': 80, 'number_detections': 1, 'detections': [['person', 0.7925065755844116]], 'max_confidence': 0}, {'frame_id': 80, 'number_detections': 1, 'detections': [['person', 0.7925065755844116]], 'max_confidence': 0}, {'frame_id': 80, 'number_detections': 2, 'detections': [['person', 0.919115424156189], ['person', 0.8928464651107788]], 'max_confidence': 0}, {'frame_id': 80, 'number_detections': 2, 'detections': [['person', 0.919115424156189], ['person', 0.8928464651107788]], 'max_confidence': 0}, {'frame_id': 80, 'number_detections': 0, 'detections': [], 'max_confidence': 0}, {'frame_id': 80, 'number_detections': 0, 'detections': [], 'max_confidence': 0}, {'frame_id': 81, 'number_detections': 1, 'detections': [['person', 0.8798735737800598]], 'max_confidence': 0}, {'frame_id': 81, 'number_detections': 1, 'detections': [['person', 0.8798735737800598]], 'max_confidence': 0}, {'frame_id': 81, 'number_detections': 2, 'detections': [['person', 0.9199768304824829], ['person', 0.8949211835861206]], 'max_confidence': 0}, {'frame_id': 81, 'number_detections': 2, 'detections': [['person', 0.9199768304824829], ['person', 0.8949211835861206]], 'max_confidence': 0}, {'frame_id': 81, 'number_detections': 0, 'detections': [], 'max_confidence': 0}, {'frame_id': 81, 'number_detections': 0, 'detections': [], 'max_confidence': 0}, {'frame_id': 82, 'number_detections': 1, 'detections': [['person', 0.8851748108863831]], 'max_confidence': 0}, {'frame_id': 82, 'number_detections': 1, 'detections': [['person', 0.8851748108863831]], 'max_confidence': 0}, {'frame_id': 82, 'number_detections': 2, 'detections': [['person', 0.9193341732025146], ['person', 0.897304356098175]], 'max_confidence': 0}, {'frame_id': 82, 'number_detections': 2, 'detections': [['person', 0.9193341732025146], ['person', 0.897304356098175]], 'max_confidence': 0}, {'frame_id': 82, 'number_detections': 0, 'detections': [], 'max_confidence': 0}, {'frame_id': 82, 'number_detections': 0, 'detections': [], 'max_confidence': 0}, {'frame_id': 83, 'number_detections': 1, 'detections': [['person', 0.7272598147392273]], 'max_confidence': 0}, {'frame_id': 83, 'number_detections': 1, 'detections': [['person', 0.7272598147392273]], 'max_confidence': 0}, {'frame_id': 83, 'number_detections': 2, 'detections': [['person', 0.9193856120109558], ['person', 0.8880007863044739]], 'max_confidence': 0}, {'frame_id': 83, 'number_detections': 2, 'detections': [['person', 0.9193856120109558], ['person', 0.8880007863044739]], 'max_confidence': 0}, {'frame_id': 83, 'number_detections': 0, 'detections': [], 'max_confidence': 0}, {'frame_id': 83, 'number_detections': 0, 'detections': [], 'max_confidence': 0}, {'frame_id': 84, 'number_detections': 1, 'detections': [['person', 0.6099158525466919]], 'max_confidence': 0}, {'frame_id': 84, 'number_detections': 1, 'detections': [['person', 0.6099158525466919]], 'max_confidence': 0}, {'frame_id': 84, 'number_detections': 2, 'detections': [['person', 0.9124522805213928], ['person', 0.8026906251907349]], 'max_confidence': 0}, {'frame_id': 84, 'number_detections': 2, 'detections': [['person', 0.9124522805213928], ['person', 0.8026906251907349]], 'max_confidence': 0}, {'frame_id': 84, 'number_detections': 0, 'detections': [], 'max_confidence': 0}, {'frame_id': 84, 'number_detections': 0, 'detections': [], 'max_confidence': 0}, {'frame_id': 85, 'number_detections': 0, 'detections': [], 'max_confidence': 0}, {'frame_id': 85, 'number_detections': 0, 'detections': [], 'max_confidence': 0}, {'frame_id': 85, 'number_detections': 2, 'detections': [['person', 0.9098771214485168], ['person', 0.8020681142807007]], 'max_confidence': 0}, {'frame_id': 85, 'number_detections': 2, 'detections': [['person', 0.9098771214485168], ['person', 0.8020681142807007]], 'max_confidence': 0}, {'frame_id': 85, 'number_detections': 0, 'detections': [], 'max_confidence': 0}, {'frame_id': 85, 'number_detections': 0, 'detections': [], 'max_confidence': 0}, {'frame_id': 86, 'number_detections': 2, 'detections': [['person', 0.5093214511871338], ['person', 0.4851902723312378]], 'max_confidence': 0}, {'frame_id': 86, 'number_detections': 2, 'detections': [['person', 0.5093214511871338], ['person', 0.4851902723312378]], 'max_confidence': 0}, {'frame_id': 86, 'number_detections': 2, 'detections': [['person', 0.9043518304824829], ['person', 0.8090379238128662]], 'max_confidence': 0}, {'frame_id': 86, 'number_detections': 2, 'detections': [['person', 0.9043518304824829], ['person', 0.8090379238128662]], 'max_confidence': 0}, {'frame_id': 86, 'number_detections': 0, 'detections': [], 'max_confidence': 0}, {'frame_id': 86, 'number_detections': 0, 'detections': [], 'max_confidence': 0}, {'frame_id': 87, 'number_detections': 0, 'detections': [], 'max_confidence': 0}, {'frame_id': 87, 'number_detections': 0, 'detections': [], 'max_confidence': 0}, {'frame_id': 87, 'number_detections': 2, 'detections': [['person', 0.9061576724052429], ['person', 0.7951138019561768]], 'max_confidence': 0}, {'frame_id': 87, 'number_detections': 2, 'detections': [['person', 0.9061576724052429], ['person', 0.7951138019561768]], 'max_confidence': 0}, {'frame_id': 87, 'number_detections': 0, 'detections': [], 'max_confidence': 0}, {'frame_id': 87, 'number_detections': 0, 'detections': [], 'max_confidence': 0}, {'frame_id': 88, 'number_detections': 1, 'detections': [['person', 0.795188307762146]], 'max_confidence': 0}, {'frame_id': 88, 'number_detections': 1, 'detections': [['person', 0.795188307762146]], 'max_confidence': 0}, {'frame_id': 88, 'number_detections': 2, 'detections': [['person', 0.9067401885986328], ['person', 0.7650452256202698]], 'max_confidence': 0}, {'frame_id': 88, 'number_detections': 2, 'detections': [['person', 0.9067401885986328], ['person', 0.7650452256202698]], 'max_confidence': 0}, {'frame_id': 88, 'number_detections': 0, 'detections': [], 'max_confidence': 0}, {'frame_id': 88, 'number_detections': 0, 'detections': [], 'max_confidence': 0}, {'frame_id': 89, 'number_detections': 2, 'detections': [['person', 0.8443925380706787], ['person', 0.4946648180484772]], 'max_confidence': 0}, {'frame_id': 89, 'number_detections': 2, 'detections': [['person', 0.8443925380706787], ['person', 0.4946648180484772]], 'max_confidence': 0}, {'frame_id': 89, 'number_detections': 2, 'detections': [['person', 0.9122682809829712], ['person', 0.8049123287200928]], 'max_confidence': 0}, {'frame_id': 89, 'number_detections': 2, 'detections': [['person', 0.9122682809829712], ['person', 0.8049123287200928]], 'max_confidence': 0}, {'frame_id': 89, 'number_detections': 0, 'detections': [], 'max_confidence': 0}, {'frame_id': 89, 'number_detections': 0, 'detections': [], 'max_confidence': 0}, {'frame_id': 90, 'number_detections': 2, 'detections': [['person', 0.8338680267333984], ['person', 0.8012827634811401]], 'max_confidence': 0}, {'frame_id': 90, 'number_detections': 2, 'detections': [['person', 0.8338680267333984], ['person', 0.8012827634811401]], 'max_confidence': 0}, {'frame_id': 90, 'number_detections': 2, 'detections': [['person', 0.926266074180603], ['person', 0.7938961982727051]], 'max_confidence': 0}, {'frame_id': 90, 'number_detections': 2, 'detections': [['person', 0.926266074180603], ['person', 0.7938961982727051]], 'max_confidence': 0}, {'frame_id': 90, 'number_detections': 0, 'detections': [], 'max_confidence': 0}, {'frame_id': 90, 'number_detections': 0, 'detections': [], 'max_confidence': 0}, {'frame_id': 91, 'number_detections': 2, 'detections': [['person', 0.8444548845291138], ['person', 0.44342076778411865]], 'max_confidence': 0}, {'frame_id': 91, 'number_detections': 2, 'detections': [['person', 0.8444548845291138], ['person', 0.44342076778411865]], 'max_confidence': 0}, {'frame_id': 91, 'number_detections': 2, 'detections': [['person', 0.916775107383728], ['person', 0.7151814699172974]], 'max_confidence': 0}, {'frame_id': 91, 'number_detections': 2, 'detections': [['person', 0.916775107383728], ['person', 0.7151814699172974]], 'max_confidence': 0}, {'frame_id': 91, 'number_detections': 0, 'detections': [], 'max_confidence': 0}, {'frame_id': 91, 'number_detections': 0, 'detections': [], 'max_confidence': 0}, {'frame_id': 92, 'number_detections': 1, 'detections': [['person', 0.8545998334884644]], 'max_confidence': 0}, {'frame_id': 92, 'number_detections': 1, 'detections': [['person', 0.8545998334884644]], 'max_confidence': 0}, {'frame_id': 92, 'number_detections': 2, 'detections': [['person', 0.9004735350608826], ['person', 0.7425759434700012]], 'max_confidence': 0}, {'frame_id': 92, 'number_detections': 2, 'detections': [['person', 0.9004735350608826], ['person', 0.7425759434700012]], 'max_confidence': 0}, {'frame_id': 92, 'number_detections': 0, 'detections': [], 'max_confidence': 0}, {'frame_id': 92, 'number_detections': 0, 'detections': [], 'max_confidence': 0}, {'frame_id': 93, 'number_detections': 1, 'detections': [['person', 0.86857670545578]], 'max_confidence': 0}, {'frame_id': 93, 'number_detections': 1, 'detections': [['person', 0.86857670545578]], 'max_confidence': 0}, {'frame_id': 93, 'number_detections': 2, 'detections': [['person', 0.8825542330741882], ['person', 0.843798816204071]], 'max_confidence': 0}, {'frame_id': 93, 'number_detections': 2, 'detections': [['person', 0.8825542330741882], ['person', 0.843798816204071]], 'max_confidence': 0}, {'frame_id': 93, 'number_detections': 0, 'detections': [], 'max_confidence': 0}, {'frame_id': 93, 'number_detections': 0, 'detections': [], 'max_confidence': 0}, {'frame_id': 94, 'number_detections': 1, 'detections': [['person', 0.8680694103240967]], 'max_confidence': 0}, {'frame_id': 94, 'number_detections': 1, 'detections': [['person', 0.8680694103240967]], 'max_confidence': 0}, {'frame_id': 94, 'number_detections': 2, 'detections': [['person', 0.8791375160217285], ['person', 0.8367136120796204]], 'max_confidence': 0}, {'frame_id': 94, 'number_detections': 2, 'detections': [['person', 0.8791375160217285], ['person', 0.8367136120796204]], 'max_confidence': 0}, {'frame_id': 94, 'number_detections': 0, 'detections': [], 'max_confidence': 0}, {'frame_id': 94, 'number_detections': 0, 'detections': [], 'max_confidence': 0}, {'frame_id': 95, 'number_detections': 1, 'detections': [['person', 0.8685758113861084]], 'max_confidence': 0}, {'frame_id': 95, 'number_detections': 1, 'detections': [['person', 0.8685758113861084]], 'max_confidence': 0}, {'frame_id': 95, 'number_detections': 2, 'detections': [['person', 0.8889410495758057], ['person', 0.8329372406005859]], 'max_confidence': 0}, {'frame_id': 95, 'number_detections': 2, 'detections': [['person', 0.8889410495758057], ['person', 0.8329372406005859]], 'max_confidence': 0}, {'frame_id': 95, 'number_detections': 0, 'detections': [], 'max_confidence': 0}, {'frame_id': 95, 'number_detections': 0, 'detections': [], 'max_confidence': 0}, {'frame_id': 96, 'number_detections': 1, 'detections': [['person', 0.8351899981498718]], 'max_confidence': 0}, {'frame_id': 96, 'number_detections': 1, 'detections': [['person', 0.8351899981498718]], 'max_confidence': 0}, {'frame_id': 96, 'number_detections': 2, 'detections': [['person', 0.924758791923523], ['person', 0.8504725694656372]], 'max_confidence': 0}, {'frame_id': 96, 'number_detections': 2, 'detections': [['person', 0.924758791923523], ['person', 0.8504725694656372]], 'max_confidence': 0}, {'frame_id': 96, 'number_detections': 0, 'detections': [], 'max_confidence': 0}, {'frame_id': 96, 'number_detections': 0, 'detections': [], 'max_confidence': 0}, {'frame_id': 97, 'number_detections': 0, 'detections': [], 'max_confidence': 0}, {'frame_id': 97, 'number_detections': 0, 'detections': [], 'max_confidence': 0}, {'frame_id': 97, 'number_detections': 2, 'detections': [['person', 0.8380990624427795], ['person', 0.778216540813446]], 'max_confidence': 0}, {'frame_id': 97, 'number_detections': 2, 'detections': [['person', 0.8380990624427795], ['person', 0.778216540813446]], 'max_confidence': 0}, {'frame_id': 97, 'number_detections': 0, 'detections': [], 'max_confidence': 0}, {'frame_id': 97, 'number_detections': 0, 'detections': [], 'max_confidence': 0}, {'frame_id': 98, 'number_detections': 1, 'detections': [['person', 0.450671911239624]], 'max_confidence': 0}, {'frame_id': 98, 'number_detections': 1, 'detections': [['person', 0.450671911239624]], 'max_confidence': 0}, {'frame_id': 98, 'number_detections': 2, 'detections': [['person', 0.839413583278656], ['person', 0.8061466813087463]], 'max_confidence': 0}, {'frame_id': 98, 'number_detections': 2, 'detections': [['person', 0.839413583278656], ['person', 0.8061466813087463]], 'max_confidence': 0}, {'frame_id': 98, 'number_detections': 0, 'detections': [], 'max_confidence': 0}, {'frame_id': 98, 'number_detections': 0, 'detections': [], 'max_confidence': 0}, {'frame_id': 99, 'number_detections': 1, 'detections': [['person', 0.4668896794319153]], 'max_confidence': 0}, {'frame_id': 99, 'number_detections': 1, 'detections': [['person', 0.4668896794319153]], 'max_confidence': 0}, {'frame_id': 99, 'number_detections': 2, 'detections': [['person', 0.8289526104927063], ['person', 0.7575169801712036]], 'max_confidence': 0}, {'frame_id': 99, 'number_detections': 2, 'detections': [['person', 0.8289526104927063], ['person', 0.7575169801712036]], 'max_confidence': 0}, {'frame_id': 99, 'number_detections': 0, 'detections': [], 'max_confidence': 0}, {'frame_id': 99, 'number_detections': 0, 'detections': [], 'max_confidence': 0}, {'frame_id': 100, 'number_detections': 0, 'detections': [], 'max_confidence': 0}, {'frame_id': 100, 'number_detections': 0, 'detections': [], 'max_confidence': 0}, {'frame_id': 100, 'number_detections': 2, 'detections': [['person', 0.8952512145042419], ['person', 0.797459065914154]], 'max_confidence': 0}, {'frame_id': 100, 'number_detections': 2, 'detections': [['person', 0.8952512145042419], ['person', 0.797459065914154]], 'max_confidence': 0}, {'frame_id': 100, 'number_detections': 0, 'detections': [], 'max_confidence': 0}, {'frame_id': 100, 'number_detections': 0, 'detections': [], 'max_confidence': 0}, {'frame_id': 101, 'number_detections': 1, 'detections': [['person', 0.9264316558837891]], 'max_confidence': 0}, {'frame_id': 101, 'number_detections': 1, 'detections': [['person', 0.9264316558837891]], 'max_confidence': 0}, {'frame_id': 101, 'number_detections': 2, 'detections': [['person', 0.8497623205184937], ['person', 0.8427585363388062]], 'max_confidence': 0}, {'frame_id': 101, 'number_detections': 2, 'detections': [['person', 0.8497623205184937], ['person', 0.8427585363388062]], 'max_confidence': 0}, {'frame_id': 101, 'number_detections': 0, 'detections': [], 'max_confidence': 0}, {'frame_id': 101, 'number_detections': 0, 'detections': [], 'max_confidence': 0}]\n"
     ]
    }
   ],
   "source": [
    "print(data)"
   ]
  },
  {
   "cell_type": "markdown",
   "metadata": {},
   "source": []
  },
  {
   "cell_type": "code",
   "execution_count": 238,
   "metadata": {},
   "outputs": [
    {
     "name": "stdout",
     "output_type": "stream",
     "text": [
      "     Confidence  FPS   Pd\n",
      "0          0.01  0.5  1.0\n",
      "1          0.01  1.0  1.0\n",
      "2          0.01  2.0  1.0\n",
      "3          0.01  3.0  1.0\n",
      "4          0.01  4.0  1.0\n",
      "..          ...  ...  ...\n",
      "595        1.00  1.0  0.0\n",
      "596        1.00  2.0  0.0\n",
      "597        1.00  3.0  0.0\n",
      "598        1.00  4.0  0.0\n",
      "599        1.00  5.0  0.0\n",
      "\n",
      "[600 rows x 3 columns]\n"
     ]
    }
   ],
   "source": [
    "import pandas as pd\n",
    "\n",
    "def indexes_and_pds(data):\n",
    "    # Initialize an empty list to store the results\n",
    "    results = []\n",
    "\n",
    "    # Loop through different confidence thresholds (from 0.01 to 1.0)\n",
    "    for i in range(1, 101):\n",
    "        confidence_threshold = i * 0.01\n",
    "        \n",
    "        # Loop through different frame rates (0.5 FPS, 1 FPS, 2 FPS, 3 FPS, 4 FPS, and 5 FPS)\n",
    "        for fps in [0.5, 1, 2, 3, 4, 5]:\n",
    "            # Calculate the frame interval for the current FPS\n",
    "            frame_interval = int(30 / fps)  # Assuming a 30 FPS video\n",
    "\n",
    "            # Initialize a dictionary to store results for the current combination\n",
    "            result_dict = {\n",
    "                'Confidence': confidence_threshold,\n",
    "                'FPS': fps\n",
    "            }\n",
    "\n",
    "            true_positives = 0\n",
    "            total_detections = 0\n",
    "\n",
    "            # Iterate through frames starting from index 0\n",
    "            current_index = 0\n",
    "            while current_index < len(data):\n",
    "                # Extract a frame\n",
    "                frame_data = data[current_index]\n",
    "\n",
    "                # Check if there are detections\n",
    "                number_detections = frame_data['number_detections']\n",
    "                if number_detections > 0:\n",
    "                    detections = frame_data['detections']\n",
    "                    for detection in detections:\n",
    "                        if detection[0] == 'person' and detection[1] >= confidence_threshold:\n",
    "                            true_positives += 1\n",
    "\n",
    "                    total_detections += number_detections\n",
    "\n",
    "                current_index += frame_interval  # Move to the next frame based on the frame interval\n",
    "\n",
    "            # Calculate Pd for the current combination\n",
    "            if total_detections == 0:\n",
    "                pd_value = 0  # Handle the case when there are no detections for this combination\n",
    "            else:\n",
    "                pd_value = true_positives / total_detections\n",
    "\n",
    "            # Add Pd value to the result dictionary\n",
    "            result_dict['Pd'] = pd_value\n",
    "\n",
    "            # Append the result dictionary to the results list\n",
    "            results.append(result_dict)\n",
    "\n",
    "    # Create a DataFrame from the results list\n",
    "    result_df = pd.DataFrame(results)\n",
    "\n",
    "    return result_df  # Return the DataFrame\n",
    "\n",
    "# Call the function with your data\n",
    "result_df = indexes_and_pds(data)\n",
    "\n",
    "# Print the resulting DataFrame\n",
    "print(result_df)\n"
   ]
  },
  {
   "cell_type": "code",
   "execution_count": 239,
   "metadata": {},
   "outputs": [
    {
     "name": "stdout",
     "output_type": "stream",
     "text": [
      "     Confidence  FPS   Pd\n",
      "0          0.01  0.5  1.0\n",
      "1          0.01  1.0  1.0\n",
      "2          0.01  2.0  1.0\n",
      "3          0.01  3.0  1.0\n",
      "4          0.01  4.0  1.0\n",
      "..          ...  ...  ...\n",
      "595        1.00  1.0  0.0\n",
      "596        1.00  2.0  0.0\n",
      "597        1.00  3.0  0.0\n",
      "598        1.00  4.0  0.0\n",
      "599        1.00  5.0  0.0\n",
      "\n",
      "[600 rows x 3 columns]\n"
     ]
    }
   ],
   "source": [
    "df = indexes_and_pds(data)\n",
    "print(df)"
   ]
  },
  {
   "cell_type": "code",
   "execution_count": 241,
   "metadata": {},
   "outputs": [
    {
     "data": {
      "application/vnd.plotly.v1+json": {
       "config": {
        "plotlyServerURL": "https://plot.ly"
       },
       "data": [
        {
         "coloraxis": "coloraxis",
         "hovertemplate": "Confidence: %{x}<br>FPS: %{y}<br>Probability of Detection (Pd): %{z}<extra></extra>",
         "name": "0",
         "showscale": true,
         "text": [
          [
           1,
           1,
           1,
           1,
           1,
           1,
           1,
           1,
           1,
           1,
           1,
           1,
           1,
           1,
           1,
           1,
           1,
           1,
           1,
           1,
           1,
           1,
           1,
           1,
           1,
           1,
           1,
           1,
           1,
           1,
           1,
           1,
           1,
           1,
           1,
           1,
           1,
           1,
           1,
           1,
           1,
           1,
           1,
           1,
           0.9090909090909091,
           0.9090909090909091,
           0.8181818181818182,
           0.8181818181818182,
           0.8181818181818182,
           0.7272727272727273,
           0.6363636363636364,
           0.6363636363636364,
           0.6363636363636364,
           0.6363636363636364,
           0.6363636363636364,
           0.6363636363636364,
           0.5454545454545454,
           0.5454545454545454,
           0.5454545454545454,
           0.5454545454545454,
           0.5454545454545454,
           0.5454545454545454,
           0.5454545454545454,
           0.5454545454545454,
           0.5454545454545454,
           0.5454545454545454,
           0.5454545454545454,
           0.5454545454545454,
           0.5454545454545454,
           0.5454545454545454,
           0.45454545454545453,
           0.45454545454545453,
           0.45454545454545453,
           0.45454545454545453,
           0.45454545454545453,
           0.45454545454545453,
           0.45454545454545453,
           0.45454545454545453,
           0.45454545454545453,
           0.45454545454545453,
           0.45454545454545453,
           0.45454545454545453,
           0.45454545454545453,
           0.45454545454545453,
           0.45454545454545453,
           0.36363636363636365,
           0.2727272727272727,
           0.2727272727272727,
           0.2727272727272727,
           0.18181818181818182,
           0.18181818181818182,
           0.09090909090909091,
           0.09090909090909091,
           0,
           0,
           0,
           0,
           0,
           0,
           0
          ],
          [
           1,
           1,
           1,
           1,
           1,
           1,
           1,
           1,
           1,
           1,
           1,
           1,
           1,
           1,
           1,
           1,
           1,
           1,
           1,
           1,
           1,
           1,
           1,
           1,
           1,
           1,
           1,
           1,
           1,
           1,
           1,
           1,
           1,
           1,
           1,
           1,
           1,
           1,
           1,
           1,
           1,
           1,
           1,
           1,
           0.96,
           0.96,
           0.92,
           0.92,
           0.92,
           0.88,
           0.76,
           0.76,
           0.76,
           0.76,
           0.76,
           0.76,
           0.72,
           0.72,
           0.68,
           0.68,
           0.64,
           0.64,
           0.64,
           0.64,
           0.64,
           0.64,
           0.64,
           0.64,
           0.6,
           0.56,
           0.52,
           0.52,
           0.52,
           0.52,
           0.52,
           0.52,
           0.52,
           0.52,
           0.48,
           0.48,
           0.48,
           0.44,
           0.44,
           0.44,
           0.44,
           0.36,
           0.32,
           0.32,
           0.28,
           0.24,
           0.24,
           0.08,
           0.08,
           0.04,
           0,
           0,
           0,
           0,
           0,
           0
          ],
          [
           1,
           1,
           1,
           1,
           1,
           1,
           1,
           1,
           1,
           1,
           1,
           1,
           1,
           1,
           1,
           1,
           1,
           1,
           1,
           1,
           1,
           1,
           1,
           1,
           1,
           1,
           1,
           1,
           1,
           1,
           1,
           1,
           1,
           1,
           1,
           1,
           1,
           1,
           1,
           1,
           1,
           1,
           1,
           1,
           0.96,
           0.96,
           0.92,
           0.92,
           0.92,
           0.88,
           0.76,
           0.76,
           0.76,
           0.76,
           0.76,
           0.76,
           0.72,
           0.72,
           0.68,
           0.68,
           0.64,
           0.64,
           0.64,
           0.64,
           0.64,
           0.64,
           0.64,
           0.64,
           0.6,
           0.56,
           0.52,
           0.52,
           0.52,
           0.52,
           0.52,
           0.52,
           0.52,
           0.52,
           0.48,
           0.48,
           0.48,
           0.44,
           0.44,
           0.44,
           0.44,
           0.36,
           0.32,
           0.32,
           0.28,
           0.24,
           0.24,
           0.08,
           0.08,
           0.04,
           0,
           0,
           0,
           0,
           0,
           0
          ],
          [
           1,
           1,
           1,
           1,
           1,
           1,
           1,
           1,
           1,
           1,
           1,
           1,
           1,
           1,
           1,
           1,
           1,
           1,
           1,
           1,
           1,
           1,
           1,
           1,
           1,
           1,
           1,
           1,
           1,
           1,
           1,
           1,
           1,
           1,
           1,
           1,
           1,
           1,
           1,
           1,
           1,
           1,
           1,
           1,
           0.9848484848484849,
           0.9848484848484849,
           0.9696969696969697,
           0.9696969696969697,
           0.9696969696969697,
           0.9545454545454546,
           0.9090909090909091,
           0.9090909090909091,
           0.9090909090909091,
           0.9090909090909091,
           0.9090909090909091,
           0.9090909090909091,
           0.8939393939393939,
           0.8939393939393939,
           0.8787878787878788,
           0.8787878787878788,
           0.8636363636363636,
           0.8636363636363636,
           0.8636363636363636,
           0.8636363636363636,
           0.8636363636363636,
           0.8636363636363636,
           0.8636363636363636,
           0.8636363636363636,
           0.8484848484848485,
           0.8333333333333334,
           0.8181818181818182,
           0.8181818181818182,
           0.8181818181818182,
           0.8181818181818182,
           0.8181818181818182,
           0.8181818181818182,
           0.8181818181818182,
           0.8181818181818182,
           0.803030303030303,
           0.7727272727272727,
           0.7424242424242424,
           0.7272727272727273,
           0.696969696969697,
           0.6515151515151515,
           0.6363636363636364,
           0.5606060606060606,
           0.5151515151515151,
           0.4696969696969697,
           0.4393939393939394,
           0.36363636363636365,
           0.3333333333333333,
           0.22727272727272727,
           0.09090909090909091,
           0.015151515151515152,
           0,
           0,
           0,
           0,
           0,
           0
          ],
          [
           1,
           1,
           1,
           1,
           1,
           1,
           1,
           1,
           1,
           1,
           1,
           1,
           1,
           1,
           1,
           1,
           1,
           1,
           1,
           1,
           1,
           1,
           1,
           1,
           1,
           1,
           1,
           1,
           1,
           1,
           1,
           1,
           1,
           1,
           1,
           1,
           1,
           1,
           1,
           1,
           1,
           1,
           0.9895833333333334,
           0.9895833333333334,
           0.9895833333333334,
           0.9895833333333334,
           0.9895833333333334,
           0.9895833333333334,
           0.9791666666666666,
           0.9791666666666666,
           0.96875,
           0.96875,
           0.96875,
           0.96875,
           0.96875,
           0.9479166666666666,
           0.9166666666666666,
           0.9166666666666666,
           0.8958333333333334,
           0.8958333333333334,
           0.8854166666666666,
           0.8854166666666666,
           0.8854166666666666,
           0.8854166666666666,
           0.8854166666666666,
           0.8854166666666666,
           0.8854166666666666,
           0.8854166666666666,
           0.8854166666666666,
           0.875,
           0.875,
           0.875,
           0.8645833333333334,
           0.8541666666666666,
           0.8541666666666666,
           0.8541666666666666,
           0.8541666666666666,
           0.84375,
           0.84375,
           0.8020833333333334,
           0.78125,
           0.75,
           0.7291666666666666,
           0.7083333333333334,
           0.6979166666666666,
           0.6041666666666666,
           0.5208333333333334,
           0.5,
           0.4583333333333333,
           0.3541666666666667,
           0.3229166666666667,
           0.23958333333333334,
           0.052083333333333336,
           0.020833333333333332,
           0,
           0,
           0,
           0,
           0,
           0
          ],
          [
           1,
           1,
           1,
           1,
           1,
           1,
           1,
           1,
           1,
           1,
           1,
           1,
           1,
           1,
           1,
           1,
           1,
           1,
           1,
           1,
           1,
           1,
           1,
           1,
           1,
           1,
           1,
           1,
           1,
           1,
           1,
           1,
           1,
           1,
           1,
           1,
           1,
           1,
           1,
           1,
           1,
           1,
           0.9922480620155039,
           0.9844961240310077,
           0.9689922480620154,
           0.937984496124031,
           0.9069767441860465,
           0.9069767441860465,
           0.8837209302325582,
           0.8604651162790697,
           0.8217054263565892,
           0.8217054263565892,
           0.8217054263565892,
           0.813953488372093,
           0.8062015503875969,
           0.7829457364341085,
           0.7596899224806202,
           0.7596899224806202,
           0.7364341085271318,
           0.7286821705426356,
           0.7131782945736435,
           0.7131782945736435,
           0.689922480620155,
           0.6744186046511628,
           0.6666666666666666,
           0.6666666666666666,
           0.6589147286821705,
           0.6511627906976745,
           0.6434108527131783,
           0.6356589147286822,
           0.6124031007751938,
           0.6124031007751938,
           0.5968992248062015,
           0.5813953488372093,
           0.5813953488372093,
           0.5813953488372093,
           0.5658914728682171,
           0.5658914728682171,
           0.5503875968992248,
           0.5271317829457365,
           0.5116279069767442,
           0.4883720930232558,
           0.4806201550387597,
           0.4573643410852713,
           0.4418604651162791,
           0.4186046511627907,
           0.3798449612403101,
           0.3643410852713178,
           0.3178294573643411,
           0.26356589147286824,
           0.20930232558139536,
           0.13953488372093023,
           0.06976744186046512,
           0.023255813953488372,
           0,
           0,
           0,
           0,
           0,
           0
          ]
         ],
         "type": "heatmap",
         "x": [
          0.01,
          0.02,
          0.03,
          0.04,
          0.05,
          0.06,
          0.07,
          0.08,
          0.09,
          0.1,
          0.11,
          0.12,
          0.13,
          0.14,
          0.15,
          0.16,
          0.17,
          0.18,
          0.19,
          0.2,
          0.21,
          0.22,
          0.23,
          0.24,
          0.25,
          0.26,
          0.27,
          0.28,
          0.29,
          0.3,
          0.31,
          0.32,
          0.33,
          0.34,
          0.35000000000000003,
          0.36,
          0.37,
          0.38,
          0.39,
          0.4,
          0.41000000000000003,
          0.42,
          0.43,
          0.44,
          0.45,
          0.46,
          0.47000000000000003,
          0.48,
          0.49,
          0.5,
          0.51,
          0.52,
          0.53,
          0.54,
          0.55,
          0.56,
          0.5700000000000001,
          0.58,
          0.59,
          0.6,
          0.61,
          0.62,
          0.63,
          0.64,
          0.65,
          0.66,
          0.67,
          0.68,
          0.6900000000000001,
          0.7000000000000001,
          0.71,
          0.72,
          0.73,
          0.74,
          0.75,
          0.76,
          0.77,
          0.78,
          0.79,
          0.8,
          0.81,
          0.8200000000000001,
          0.8300000000000001,
          0.84,
          0.85,
          0.86,
          0.87,
          0.88,
          0.89,
          0.9,
          0.91,
          0.92,
          0.93,
          0.9400000000000001,
          0.9500000000000001,
          0.96,
          0.97,
          0.98,
          0.99,
          1
         ],
         "xaxis": "x",
         "y": [
          0.5,
          1,
          2,
          3,
          4,
          5
         ],
         "yaxis": "y",
         "z": [
          [
           1,
           1,
           1,
           1,
           1,
           1,
           1,
           1,
           1,
           1,
           1,
           1,
           1,
           1,
           1,
           1,
           1,
           1,
           1,
           1,
           1,
           1,
           1,
           1,
           1,
           1,
           1,
           1,
           1,
           1,
           1,
           1,
           1,
           1,
           1,
           1,
           1,
           1,
           1,
           1,
           1,
           1,
           1,
           1,
           0.9090909090909091,
           0.9090909090909091,
           0.8181818181818182,
           0.8181818181818182,
           0.8181818181818182,
           0.7272727272727273,
           0.6363636363636364,
           0.6363636363636364,
           0.6363636363636364,
           0.6363636363636364,
           0.6363636363636364,
           0.6363636363636364,
           0.5454545454545454,
           0.5454545454545454,
           0.5454545454545454,
           0.5454545454545454,
           0.5454545454545454,
           0.5454545454545454,
           0.5454545454545454,
           0.5454545454545454,
           0.5454545454545454,
           0.5454545454545454,
           0.5454545454545454,
           0.5454545454545454,
           0.5454545454545454,
           0.5454545454545454,
           0.45454545454545453,
           0.45454545454545453,
           0.45454545454545453,
           0.45454545454545453,
           0.45454545454545453,
           0.45454545454545453,
           0.45454545454545453,
           0.45454545454545453,
           0.45454545454545453,
           0.45454545454545453,
           0.45454545454545453,
           0.45454545454545453,
           0.45454545454545453,
           0.45454545454545453,
           0.45454545454545453,
           0.36363636363636365,
           0.2727272727272727,
           0.2727272727272727,
           0.2727272727272727,
           0.18181818181818182,
           0.18181818181818182,
           0.09090909090909091,
           0.09090909090909091,
           0,
           0,
           0,
           0,
           0,
           0,
           0
          ],
          [
           1,
           1,
           1,
           1,
           1,
           1,
           1,
           1,
           1,
           1,
           1,
           1,
           1,
           1,
           1,
           1,
           1,
           1,
           1,
           1,
           1,
           1,
           1,
           1,
           1,
           1,
           1,
           1,
           1,
           1,
           1,
           1,
           1,
           1,
           1,
           1,
           1,
           1,
           1,
           1,
           1,
           1,
           1,
           1,
           0.96,
           0.96,
           0.92,
           0.92,
           0.92,
           0.88,
           0.76,
           0.76,
           0.76,
           0.76,
           0.76,
           0.76,
           0.72,
           0.72,
           0.68,
           0.68,
           0.64,
           0.64,
           0.64,
           0.64,
           0.64,
           0.64,
           0.64,
           0.64,
           0.6,
           0.56,
           0.52,
           0.52,
           0.52,
           0.52,
           0.52,
           0.52,
           0.52,
           0.52,
           0.48,
           0.48,
           0.48,
           0.44,
           0.44,
           0.44,
           0.44,
           0.36,
           0.32,
           0.32,
           0.28,
           0.24,
           0.24,
           0.08,
           0.08,
           0.04,
           0,
           0,
           0,
           0,
           0,
           0
          ],
          [
           1,
           1,
           1,
           1,
           1,
           1,
           1,
           1,
           1,
           1,
           1,
           1,
           1,
           1,
           1,
           1,
           1,
           1,
           1,
           1,
           1,
           1,
           1,
           1,
           1,
           1,
           1,
           1,
           1,
           1,
           1,
           1,
           1,
           1,
           1,
           1,
           1,
           1,
           1,
           1,
           1,
           1,
           1,
           1,
           0.96,
           0.96,
           0.92,
           0.92,
           0.92,
           0.88,
           0.76,
           0.76,
           0.76,
           0.76,
           0.76,
           0.76,
           0.72,
           0.72,
           0.68,
           0.68,
           0.64,
           0.64,
           0.64,
           0.64,
           0.64,
           0.64,
           0.64,
           0.64,
           0.6,
           0.56,
           0.52,
           0.52,
           0.52,
           0.52,
           0.52,
           0.52,
           0.52,
           0.52,
           0.48,
           0.48,
           0.48,
           0.44,
           0.44,
           0.44,
           0.44,
           0.36,
           0.32,
           0.32,
           0.28,
           0.24,
           0.24,
           0.08,
           0.08,
           0.04,
           0,
           0,
           0,
           0,
           0,
           0
          ],
          [
           1,
           1,
           1,
           1,
           1,
           1,
           1,
           1,
           1,
           1,
           1,
           1,
           1,
           1,
           1,
           1,
           1,
           1,
           1,
           1,
           1,
           1,
           1,
           1,
           1,
           1,
           1,
           1,
           1,
           1,
           1,
           1,
           1,
           1,
           1,
           1,
           1,
           1,
           1,
           1,
           1,
           1,
           1,
           1,
           0.9848484848484849,
           0.9848484848484849,
           0.9696969696969697,
           0.9696969696969697,
           0.9696969696969697,
           0.9545454545454546,
           0.9090909090909091,
           0.9090909090909091,
           0.9090909090909091,
           0.9090909090909091,
           0.9090909090909091,
           0.9090909090909091,
           0.8939393939393939,
           0.8939393939393939,
           0.8787878787878788,
           0.8787878787878788,
           0.8636363636363636,
           0.8636363636363636,
           0.8636363636363636,
           0.8636363636363636,
           0.8636363636363636,
           0.8636363636363636,
           0.8636363636363636,
           0.8636363636363636,
           0.8484848484848485,
           0.8333333333333334,
           0.8181818181818182,
           0.8181818181818182,
           0.8181818181818182,
           0.8181818181818182,
           0.8181818181818182,
           0.8181818181818182,
           0.8181818181818182,
           0.8181818181818182,
           0.803030303030303,
           0.7727272727272727,
           0.7424242424242424,
           0.7272727272727273,
           0.696969696969697,
           0.6515151515151515,
           0.6363636363636364,
           0.5606060606060606,
           0.5151515151515151,
           0.4696969696969697,
           0.4393939393939394,
           0.36363636363636365,
           0.3333333333333333,
           0.22727272727272727,
           0.09090909090909091,
           0.015151515151515152,
           0,
           0,
           0,
           0,
           0,
           0
          ],
          [
           1,
           1,
           1,
           1,
           1,
           1,
           1,
           1,
           1,
           1,
           1,
           1,
           1,
           1,
           1,
           1,
           1,
           1,
           1,
           1,
           1,
           1,
           1,
           1,
           1,
           1,
           1,
           1,
           1,
           1,
           1,
           1,
           1,
           1,
           1,
           1,
           1,
           1,
           1,
           1,
           1,
           1,
           0.9895833333333334,
           0.9895833333333334,
           0.9895833333333334,
           0.9895833333333334,
           0.9895833333333334,
           0.9895833333333334,
           0.9791666666666666,
           0.9791666666666666,
           0.96875,
           0.96875,
           0.96875,
           0.96875,
           0.96875,
           0.9479166666666666,
           0.9166666666666666,
           0.9166666666666666,
           0.8958333333333334,
           0.8958333333333334,
           0.8854166666666666,
           0.8854166666666666,
           0.8854166666666666,
           0.8854166666666666,
           0.8854166666666666,
           0.8854166666666666,
           0.8854166666666666,
           0.8854166666666666,
           0.8854166666666666,
           0.875,
           0.875,
           0.875,
           0.8645833333333334,
           0.8541666666666666,
           0.8541666666666666,
           0.8541666666666666,
           0.8541666666666666,
           0.84375,
           0.84375,
           0.8020833333333334,
           0.78125,
           0.75,
           0.7291666666666666,
           0.7083333333333334,
           0.6979166666666666,
           0.6041666666666666,
           0.5208333333333334,
           0.5,
           0.4583333333333333,
           0.3541666666666667,
           0.3229166666666667,
           0.23958333333333334,
           0.052083333333333336,
           0.020833333333333332,
           0,
           0,
           0,
           0,
           0,
           0
          ],
          [
           1,
           1,
           1,
           1,
           1,
           1,
           1,
           1,
           1,
           1,
           1,
           1,
           1,
           1,
           1,
           1,
           1,
           1,
           1,
           1,
           1,
           1,
           1,
           1,
           1,
           1,
           1,
           1,
           1,
           1,
           1,
           1,
           1,
           1,
           1,
           1,
           1,
           1,
           1,
           1,
           1,
           1,
           0.9922480620155039,
           0.9844961240310077,
           0.9689922480620154,
           0.937984496124031,
           0.9069767441860465,
           0.9069767441860465,
           0.8837209302325582,
           0.8604651162790697,
           0.8217054263565892,
           0.8217054263565892,
           0.8217054263565892,
           0.813953488372093,
           0.8062015503875969,
           0.7829457364341085,
           0.7596899224806202,
           0.7596899224806202,
           0.7364341085271318,
           0.7286821705426356,
           0.7131782945736435,
           0.7131782945736435,
           0.689922480620155,
           0.6744186046511628,
           0.6666666666666666,
           0.6666666666666666,
           0.6589147286821705,
           0.6511627906976745,
           0.6434108527131783,
           0.6356589147286822,
           0.6124031007751938,
           0.6124031007751938,
           0.5968992248062015,
           0.5813953488372093,
           0.5813953488372093,
           0.5813953488372093,
           0.5658914728682171,
           0.5658914728682171,
           0.5503875968992248,
           0.5271317829457365,
           0.5116279069767442,
           0.4883720930232558,
           0.4806201550387597,
           0.4573643410852713,
           0.4418604651162791,
           0.4186046511627907,
           0.3798449612403101,
           0.3643410852713178,
           0.3178294573643411,
           0.26356589147286824,
           0.20930232558139536,
           0.13953488372093023,
           0.06976744186046512,
           0.023255813953488372,
           0,
           0,
           0,
           0,
           0,
           0
          ]
         ]
        }
       ],
       "layout": {
        "autosize": false,
        "coloraxis": {
         "colorbar": {
          "title": {
           "text": "Probability of Detection (Pd)"
          }
         },
         "colorscale": [
          [
           0,
           "#440154"
          ],
          [
           0.1111111111111111,
           "#482878"
          ],
          [
           0.2222222222222222,
           "#3e4989"
          ],
          [
           0.3333333333333333,
           "#31688e"
          ],
          [
           0.4444444444444444,
           "#26828e"
          ],
          [
           0.5555555555555556,
           "#1f9e89"
          ],
          [
           0.6666666666666666,
           "#35b779"
          ],
          [
           0.7777777777777778,
           "#6ece58"
          ],
          [
           0.8888888888888888,
           "#b5de2b"
          ],
          [
           1,
           "#fde725"
          ]
         ]
        },
        "height": 650,
        "template": {
         "data": {
          "bar": [
           {
            "error_x": {
             "color": "#2a3f5f"
            },
            "error_y": {
             "color": "#2a3f5f"
            },
            "marker": {
             "line": {
              "color": "#E5ECF6",
              "width": 0.5
             },
             "pattern": {
              "fillmode": "overlay",
              "size": 10,
              "solidity": 0.2
             }
            },
            "type": "bar"
           }
          ],
          "barpolar": [
           {
            "marker": {
             "line": {
              "color": "#E5ECF6",
              "width": 0.5
             },
             "pattern": {
              "fillmode": "overlay",
              "size": 10,
              "solidity": 0.2
             }
            },
            "type": "barpolar"
           }
          ],
          "carpet": [
           {
            "aaxis": {
             "endlinecolor": "#2a3f5f",
             "gridcolor": "white",
             "linecolor": "white",
             "minorgridcolor": "white",
             "startlinecolor": "#2a3f5f"
            },
            "baxis": {
             "endlinecolor": "#2a3f5f",
             "gridcolor": "white",
             "linecolor": "white",
             "minorgridcolor": "white",
             "startlinecolor": "#2a3f5f"
            },
            "type": "carpet"
           }
          ],
          "choropleth": [
           {
            "colorbar": {
             "outlinewidth": 0,
             "ticks": ""
            },
            "type": "choropleth"
           }
          ],
          "contour": [
           {
            "colorbar": {
             "outlinewidth": 0,
             "ticks": ""
            },
            "colorscale": [
             [
              0,
              "#0d0887"
             ],
             [
              0.1111111111111111,
              "#46039f"
             ],
             [
              0.2222222222222222,
              "#7201a8"
             ],
             [
              0.3333333333333333,
              "#9c179e"
             ],
             [
              0.4444444444444444,
              "#bd3786"
             ],
             [
              0.5555555555555556,
              "#d8576b"
             ],
             [
              0.6666666666666666,
              "#ed7953"
             ],
             [
              0.7777777777777778,
              "#fb9f3a"
             ],
             [
              0.8888888888888888,
              "#fdca26"
             ],
             [
              1,
              "#f0f921"
             ]
            ],
            "type": "contour"
           }
          ],
          "contourcarpet": [
           {
            "colorbar": {
             "outlinewidth": 0,
             "ticks": ""
            },
            "type": "contourcarpet"
           }
          ],
          "heatmap": [
           {
            "colorbar": {
             "outlinewidth": 0,
             "ticks": ""
            },
            "colorscale": [
             [
              0,
              "#0d0887"
             ],
             [
              0.1111111111111111,
              "#46039f"
             ],
             [
              0.2222222222222222,
              "#7201a8"
             ],
             [
              0.3333333333333333,
              "#9c179e"
             ],
             [
              0.4444444444444444,
              "#bd3786"
             ],
             [
              0.5555555555555556,
              "#d8576b"
             ],
             [
              0.6666666666666666,
              "#ed7953"
             ],
             [
              0.7777777777777778,
              "#fb9f3a"
             ],
             [
              0.8888888888888888,
              "#fdca26"
             ],
             [
              1,
              "#f0f921"
             ]
            ],
            "type": "heatmap"
           }
          ],
          "heatmapgl": [
           {
            "colorbar": {
             "outlinewidth": 0,
             "ticks": ""
            },
            "colorscale": [
             [
              0,
              "#0d0887"
             ],
             [
              0.1111111111111111,
              "#46039f"
             ],
             [
              0.2222222222222222,
              "#7201a8"
             ],
             [
              0.3333333333333333,
              "#9c179e"
             ],
             [
              0.4444444444444444,
              "#bd3786"
             ],
             [
              0.5555555555555556,
              "#d8576b"
             ],
             [
              0.6666666666666666,
              "#ed7953"
             ],
             [
              0.7777777777777778,
              "#fb9f3a"
             ],
             [
              0.8888888888888888,
              "#fdca26"
             ],
             [
              1,
              "#f0f921"
             ]
            ],
            "type": "heatmapgl"
           }
          ],
          "histogram": [
           {
            "marker": {
             "pattern": {
              "fillmode": "overlay",
              "size": 10,
              "solidity": 0.2
             }
            },
            "type": "histogram"
           }
          ],
          "histogram2d": [
           {
            "colorbar": {
             "outlinewidth": 0,
             "ticks": ""
            },
            "colorscale": [
             [
              0,
              "#0d0887"
             ],
             [
              0.1111111111111111,
              "#46039f"
             ],
             [
              0.2222222222222222,
              "#7201a8"
             ],
             [
              0.3333333333333333,
              "#9c179e"
             ],
             [
              0.4444444444444444,
              "#bd3786"
             ],
             [
              0.5555555555555556,
              "#d8576b"
             ],
             [
              0.6666666666666666,
              "#ed7953"
             ],
             [
              0.7777777777777778,
              "#fb9f3a"
             ],
             [
              0.8888888888888888,
              "#fdca26"
             ],
             [
              1,
              "#f0f921"
             ]
            ],
            "type": "histogram2d"
           }
          ],
          "histogram2dcontour": [
           {
            "colorbar": {
             "outlinewidth": 0,
             "ticks": ""
            },
            "colorscale": [
             [
              0,
              "#0d0887"
             ],
             [
              0.1111111111111111,
              "#46039f"
             ],
             [
              0.2222222222222222,
              "#7201a8"
             ],
             [
              0.3333333333333333,
              "#9c179e"
             ],
             [
              0.4444444444444444,
              "#bd3786"
             ],
             [
              0.5555555555555556,
              "#d8576b"
             ],
             [
              0.6666666666666666,
              "#ed7953"
             ],
             [
              0.7777777777777778,
              "#fb9f3a"
             ],
             [
              0.8888888888888888,
              "#fdca26"
             ],
             [
              1,
              "#f0f921"
             ]
            ],
            "type": "histogram2dcontour"
           }
          ],
          "mesh3d": [
           {
            "colorbar": {
             "outlinewidth": 0,
             "ticks": ""
            },
            "type": "mesh3d"
           }
          ],
          "parcoords": [
           {
            "line": {
             "colorbar": {
              "outlinewidth": 0,
              "ticks": ""
             }
            },
            "type": "parcoords"
           }
          ],
          "pie": [
           {
            "automargin": true,
            "type": "pie"
           }
          ],
          "scatter": [
           {
            "fillpattern": {
             "fillmode": "overlay",
             "size": 10,
             "solidity": 0.2
            },
            "type": "scatter"
           }
          ],
          "scatter3d": [
           {
            "line": {
             "colorbar": {
              "outlinewidth": 0,
              "ticks": ""
             }
            },
            "marker": {
             "colorbar": {
              "outlinewidth": 0,
              "ticks": ""
             }
            },
            "type": "scatter3d"
           }
          ],
          "scattercarpet": [
           {
            "marker": {
             "colorbar": {
              "outlinewidth": 0,
              "ticks": ""
             }
            },
            "type": "scattercarpet"
           }
          ],
          "scattergeo": [
           {
            "marker": {
             "colorbar": {
              "outlinewidth": 0,
              "ticks": ""
             }
            },
            "type": "scattergeo"
           }
          ],
          "scattergl": [
           {
            "marker": {
             "colorbar": {
              "outlinewidth": 0,
              "ticks": ""
             }
            },
            "type": "scattergl"
           }
          ],
          "scattermapbox": [
           {
            "marker": {
             "colorbar": {
              "outlinewidth": 0,
              "ticks": ""
             }
            },
            "type": "scattermapbox"
           }
          ],
          "scatterpolar": [
           {
            "marker": {
             "colorbar": {
              "outlinewidth": 0,
              "ticks": ""
             }
            },
            "type": "scatterpolar"
           }
          ],
          "scatterpolargl": [
           {
            "marker": {
             "colorbar": {
              "outlinewidth": 0,
              "ticks": ""
             }
            },
            "type": "scatterpolargl"
           }
          ],
          "scatterternary": [
           {
            "marker": {
             "colorbar": {
              "outlinewidth": 0,
              "ticks": ""
             }
            },
            "type": "scatterternary"
           }
          ],
          "surface": [
           {
            "colorbar": {
             "outlinewidth": 0,
             "ticks": ""
            },
            "colorscale": [
             [
              0,
              "#0d0887"
             ],
             [
              0.1111111111111111,
              "#46039f"
             ],
             [
              0.2222222222222222,
              "#7201a8"
             ],
             [
              0.3333333333333333,
              "#9c179e"
             ],
             [
              0.4444444444444444,
              "#bd3786"
             ],
             [
              0.5555555555555556,
              "#d8576b"
             ],
             [
              0.6666666666666666,
              "#ed7953"
             ],
             [
              0.7777777777777778,
              "#fb9f3a"
             ],
             [
              0.8888888888888888,
              "#fdca26"
             ],
             [
              1,
              "#f0f921"
             ]
            ],
            "type": "surface"
           }
          ],
          "table": [
           {
            "cells": {
             "fill": {
              "color": "#EBF0F8"
             },
             "line": {
              "color": "white"
             }
            },
            "header": {
             "fill": {
              "color": "#C8D4E3"
             },
             "line": {
              "color": "white"
             }
            },
            "type": "table"
           }
          ]
         },
         "layout": {
          "annotationdefaults": {
           "arrowcolor": "#2a3f5f",
           "arrowhead": 0,
           "arrowwidth": 1
          },
          "autotypenumbers": "strict",
          "coloraxis": {
           "colorbar": {
            "outlinewidth": 0,
            "ticks": ""
           }
          },
          "colorscale": {
           "diverging": [
            [
             0,
             "#8e0152"
            ],
            [
             0.1,
             "#c51b7d"
            ],
            [
             0.2,
             "#de77ae"
            ],
            [
             0.3,
             "#f1b6da"
            ],
            [
             0.4,
             "#fde0ef"
            ],
            [
             0.5,
             "#f7f7f7"
            ],
            [
             0.6,
             "#e6f5d0"
            ],
            [
             0.7,
             "#b8e186"
            ],
            [
             0.8,
             "#7fbc41"
            ],
            [
             0.9,
             "#4d9221"
            ],
            [
             1,
             "#276419"
            ]
           ],
           "sequential": [
            [
             0,
             "#0d0887"
            ],
            [
             0.1111111111111111,
             "#46039f"
            ],
            [
             0.2222222222222222,
             "#7201a8"
            ],
            [
             0.3333333333333333,
             "#9c179e"
            ],
            [
             0.4444444444444444,
             "#bd3786"
            ],
            [
             0.5555555555555556,
             "#d8576b"
            ],
            [
             0.6666666666666666,
             "#ed7953"
            ],
            [
             0.7777777777777778,
             "#fb9f3a"
            ],
            [
             0.8888888888888888,
             "#fdca26"
            ],
            [
             1,
             "#f0f921"
            ]
           ],
           "sequentialminus": [
            [
             0,
             "#0d0887"
            ],
            [
             0.1111111111111111,
             "#46039f"
            ],
            [
             0.2222222222222222,
             "#7201a8"
            ],
            [
             0.3333333333333333,
             "#9c179e"
            ],
            [
             0.4444444444444444,
             "#bd3786"
            ],
            [
             0.5555555555555556,
             "#d8576b"
            ],
            [
             0.6666666666666666,
             "#ed7953"
            ],
            [
             0.7777777777777778,
             "#fb9f3a"
            ],
            [
             0.8888888888888888,
             "#fdca26"
            ],
            [
             1,
             "#f0f921"
            ]
           ]
          },
          "colorway": [
           "#636efa",
           "#EF553B",
           "#00cc96",
           "#ab63fa",
           "#FFA15A",
           "#19d3f3",
           "#FF6692",
           "#B6E880",
           "#FF97FF",
           "#FECB52"
          ],
          "font": {
           "color": "#2a3f5f"
          },
          "geo": {
           "bgcolor": "white",
           "lakecolor": "white",
           "landcolor": "#E5ECF6",
           "showlakes": true,
           "showland": true,
           "subunitcolor": "white"
          },
          "hoverlabel": {
           "align": "left"
          },
          "hovermode": "closest",
          "mapbox": {
           "style": "light"
          },
          "paper_bgcolor": "white",
          "plot_bgcolor": "#E5ECF6",
          "polar": {
           "angularaxis": {
            "gridcolor": "white",
            "linecolor": "white",
            "ticks": ""
           },
           "bgcolor": "#E5ECF6",
           "radialaxis": {
            "gridcolor": "white",
            "linecolor": "white",
            "ticks": ""
           }
          },
          "scene": {
           "xaxis": {
            "backgroundcolor": "#E5ECF6",
            "gridcolor": "white",
            "gridwidth": 2,
            "linecolor": "white",
            "showbackground": true,
            "ticks": "",
            "zerolinecolor": "white"
           },
           "yaxis": {
            "backgroundcolor": "#E5ECF6",
            "gridcolor": "white",
            "gridwidth": 2,
            "linecolor": "white",
            "showbackground": true,
            "ticks": "",
            "zerolinecolor": "white"
           },
           "zaxis": {
            "backgroundcolor": "#E5ECF6",
            "gridcolor": "white",
            "gridwidth": 2,
            "linecolor": "white",
            "showbackground": true,
            "ticks": "",
            "zerolinecolor": "white"
           }
          },
          "shapedefaults": {
           "line": {
            "color": "#2a3f5f"
           }
          },
          "ternary": {
           "aaxis": {
            "gridcolor": "white",
            "linecolor": "white",
            "ticks": ""
           },
           "baxis": {
            "gridcolor": "white",
            "linecolor": "white",
            "ticks": ""
           },
           "bgcolor": "#E5ECF6",
           "caxis": {
            "gridcolor": "white",
            "linecolor": "white",
            "ticks": ""
           }
          },
          "title": {
           "x": 0.05
          },
          "xaxis": {
           "automargin": true,
           "gridcolor": "white",
           "linecolor": "white",
           "ticks": "",
           "title": {
            "standoff": 15
           },
           "zerolinecolor": "white",
           "zerolinewidth": 2
          },
          "yaxis": {
           "automargin": true,
           "gridcolor": "white",
           "linecolor": "white",
           "ticks": "",
           "title": {
            "standoff": 15
           },
           "zerolinecolor": "white",
           "zerolinewidth": 2
          }
         }
        },
        "title": {
         "text": "Probability of Detection Heatmap"
        },
        "width": 900,
        "xaxis": {
         "anchor": "y",
         "domain": [
          0,
          1
         ],
         "title": {
          "text": "Confidence"
         }
        },
        "yaxis": {
         "anchor": "x",
         "autorange": "reversed",
         "domain": [
          0,
          1
         ],
         "title": {
          "text": "FPS"
         }
        }
       }
      }
     },
     "metadata": {},
     "output_type": "display_data"
    }
   ],
   "source": [
    "\n",
    "# Create an interactive heatmap with hover text using Plotly\n",
    "heatmap = px.imshow(\n",
    "    df.pivot_table(index=\"FPS\", columns=\"Confidence\", values=\"Pd\"),\n",
    "    x=df['Confidence'].unique(),\n",
    "    y=df['FPS'].unique(),\n",
    "    color_continuous_scale=\"viridis\",\n",
    "    labels={\"color\": \"Probability of Detection (Pd)\"},\n",
    "    title=\"Probability of Detection Heatmap\",\n",
    "    aspect = \"auto\",\n",
    ")\n",
    "\n",
    "heatmap.update_traces(text=df.pivot_table(index=\"FPS\", columns=\"Confidence\", values=\"Pd\").values.tolist(), showscale=True)\n",
    "\n",
    "# Adjust the size of the heatmap trace\n",
    "heatmap.update_layout(\n",
    "    autosize=False,  # Disable automatic resizing\n",
    "    width=900,  # Set the desired width\n",
    "    height=650,  # Set the desired height\n",
    ")\n"
   ]
  },
  {
   "cell_type": "code",
   "execution_count": null,
   "metadata": {},
   "outputs": [],
   "source": []
  },
  {
   "cell_type": "code",
   "execution_count": null,
   "metadata": {},
   "outputs": [],
   "source": []
  },
  {
   "cell_type": "code",
   "execution_count": null,
   "metadata": {},
   "outputs": [],
   "source": []
  }
 ],
 "metadata": {
  "kernelspec": {
   "display_name": "base",
   "language": "python",
   "name": "python3"
  },
  "language_info": {
   "codemirror_mode": {
    "name": "ipython",
    "version": 3
   },
   "file_extension": ".py",
   "mimetype": "text/x-python",
   "name": "python",
   "nbconvert_exporter": "python",
   "pygments_lexer": "ipython3",
   "version": "3.9.13"
  },
  "orig_nbformat": 4
 },
 "nbformat": 4,
 "nbformat_minor": 2
}
